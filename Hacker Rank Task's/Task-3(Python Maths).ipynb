{
 "cells": [
  {
   "cell_type": "code",
   "execution_count": 7,
   "id": "c9069da4",
   "metadata": {},
   "outputs": [
    {
     "name": "stdout",
     "output_type": "stream",
     "text": [
      "10\n",
      "10\n",
      "45°\n"
     ]
    }
   ],
   "source": [
    "#Problem_1\n",
    "\n",
    "import math\n",
    "a=int(input())\n",
    "b=int(input())\n",
    "\n",
    "c=math.hypot(a,b)\n",
    "bca=math.asin(1*a/c)\n",
    "bm=math.sqrt((b**2+c**2/4)-(2*b*(c/2)*math.cos(bca)))\n",
    "mbc=math.asin(math.sin(bca)*(c/2)/bm)\n",
    "print(int(round(math.degrees(mbc),0)),'\\u00B0',sep='')\n"
   ]
  },
  {
   "cell_type": "code",
   "execution_count": 9,
   "id": "b01138a5",
   "metadata": {},
   "outputs": [
    {
     "name": "stdout",
     "output_type": "stream",
     "text": [
      "9\n",
      "1\n",
      "121\n",
      "12321\n",
      "1234321\n",
      "123454321\n",
      "12345654321\n",
      "1234567654321\n",
      "123456787654321\n",
      "12345678987654321\n"
     ]
    }
   ],
   "source": [
    "#Problem_2\n",
    "\n",
    "for i in range(1,int(input())+1):\n",
    "    print((10**i//9)**2)\n"
   ]
  },
  {
   "cell_type": "code",
   "execution_count": 10,
   "id": "5648f6b1",
   "metadata": {},
   "outputs": [
    {
     "name": "stdout",
     "output_type": "stream",
     "text": [
      "188\n",
      "10\n",
      "18\n",
      "8\n",
      "(18, 8)\n"
     ]
    }
   ],
   "source": [
    "#Problem_3\n",
    "\n",
    "from __future__ import division\n",
    "\n",
    "a = int(input())\n",
    "b = int(input())\n",
    "\n",
    "print(a // b)\n",
    "print(a % b)\n",
    "print(divmod(a, b))\n"
   ]
  },
  {
   "cell_type": "code",
   "execution_count": 11,
   "id": "037f7e56",
   "metadata": {},
   "outputs": [
    {
     "name": "stdout",
     "output_type": "stream",
     "text": [
      "3\n",
      "4\n",
      "10\n",
      "81\n",
      "1\n"
     ]
    }
   ],
   "source": [
    "#Problem_4\n",
    "\n",
    "a = int(input())\n",
    "b = int(input())\n",
    "m = int(input())\n",
    "\n",
    "print(pow(a,b))\n",
    "print(pow(a,b,m))\n"
   ]
  },
  {
   "cell_type": "code",
   "execution_count": 12,
   "id": "8f2eef3d",
   "metadata": {},
   "outputs": [
    {
     "name": "stdout",
     "output_type": "stream",
     "text": [
      "9\n",
      "29\n",
      "7\n",
      "27\n",
      "4710194409608608369201743232\n"
     ]
    }
   ],
   "source": [
    "#Problem_5\n",
    "\n",
    "a = int(input())\n",
    "b = int(input())\n",
    "c = int(input())\n",
    "d = int(input())\n",
    "\n",
    "x = pow(a,b)\n",
    "y = pow(c,d)\n",
    "\n",
    "print(x+y)"
   ]
  },
  {
   "cell_type": "code",
   "execution_count": 17,
   "id": "d4ff9ae1",
   "metadata": {},
   "outputs": [
    {
     "name": "stdout",
     "output_type": "stream",
     "text": [
      "5\n",
      "1\n",
      "22\n",
      "333\n",
      "4444\n"
     ]
    }
   ],
   "source": [
    "#Problem_6\n",
    "\n",
    "for i in range(1,int(input())):\n",
    "    print((10**i//9)*i)"
   ]
  },
  {
   "cell_type": "code",
   "execution_count": null,
   "id": "648599d4",
   "metadata": {},
   "outputs": [],
   "source": []
  }
 ],
 "metadata": {
  "kernelspec": {
   "display_name": "Python 3 (ipykernel)",
   "language": "python",
   "name": "python3"
  },
  "language_info": {
   "codemirror_mode": {
    "name": "ipython",
    "version": 3
   },
   "file_extension": ".py",
   "mimetype": "text/x-python",
   "name": "python",
   "nbconvert_exporter": "python",
   "pygments_lexer": "ipython3",
   "version": "3.9.7"
  }
 },
 "nbformat": 4,
 "nbformat_minor": 5
}
