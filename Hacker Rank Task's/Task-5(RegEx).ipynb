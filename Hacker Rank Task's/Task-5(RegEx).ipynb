{
 "cells": [
  {
   "cell_type": "code",
   "execution_count": 3,
   "id": "51aad76b",
   "metadata": {},
   "outputs": [
    {
     "name": "stdout",
     "output_type": "stream",
     "text": [
      "100,000,000.000\n",
      "100\n",
      "000\n",
      "000\n",
      "000\n"
     ]
    }
   ],
   "source": [
    "#Problem_1\n",
    "\n",
    "regex_pattern = r'(?<=\\d)[,.](?=\\d)'\t# Do not delete 'r'.\n",
    "c = input()\n",
    "\n",
    "import re\n",
    "print(\"\\n\".join(re.split(regex_pattern,c)))"
   ]
  },
  {
   "cell_type": "code",
   "execution_count": 27,
   "id": "db46a0dd",
   "metadata": {},
   "outputs": [
    {
     "name": "stdout",
     "output_type": "stream",
     "text": [
      "..12345678910111213141516171820212223\n",
      "1\n"
     ]
    }
   ],
   "source": [
    "#Problem_2\n",
    "\n",
    "s = input().strip()\n",
    "\n",
    "prev_char == 0\n",
    "for c in s:\n",
    "    if c.isalnum() and c == prev_char:\n",
    "        print(c)\n",
    "        break\n",
    "        prev_char = c\n",
    "else:\n",
    "    print(-1)"
   ]
  },
  {
   "cell_type": "code",
   "execution_count": 29,
   "id": "0ec52a3b",
   "metadata": {},
   "outputs": [
    {
     "name": "stdout",
     "output_type": "stream",
     "text": [
      "rabcdeefgyYhFjkIoomnpOeorteeeeet\n",
      "ee\n",
      "Ioo\n",
      "Oeo\n",
      "eeeee\n"
     ]
    }
   ],
   "source": [
    "#Problem_3\n",
    "\n",
    "import re\n",
    "\n",
    "s = input().strip()\n",
    "k = r'(?<=[^aeiouAEIOU0-9])([aeiouAEIOU]{2,})(?=[^aeiouAEIOU0-9])'\n",
    "\n",
    "matches = re.findall(k, s)\n",
    "\n",
    "if matches:\n",
    "    for i in matches:\n",
    "        print(i)\n",
    "else:\n",
    "    print(-1)\n"
   ]
  },
  {
   "cell_type": "code",
   "execution_count": 6,
   "id": "1352e8e2",
   "metadata": {},
   "outputs": [
    {
     "name": "stdout",
     "output_type": "stream",
     "text": [
      "aaadaa\n",
      "aa\n",
      "(0, 1)\n",
      "(1, 2)\n",
      "(4, 5)\n"
     ]
    }
   ],
   "source": [
    "#Problem_4\n",
    "\n",
    "\n",
    "import re\n",
    "\n",
    "s = input().strip()\n",
    "k = input().strip()\n",
    "c = re.compile(k)\n",
    "matches = c.search(s) \n",
    "\n",
    "if not matches:\n",
    "    print(\"(-1, -1)\")\n",
    "    \n",
    "while matches:\n",
    "    print((matches.start(),matches.end()-1))\n",
    "    matches =c.search(s,matches.start()+1)\n",
    "     "
   ]
  },
  {
   "cell_type": "code",
   "execution_count": 6,
   "id": "3a4093eb",
   "metadata": {},
   "outputs": [
    {
     "name": "stdout",
     "output_type": "stream",
     "text": [
      "2\n",
      " && \n",
      " and \n",
      " || \n",
      " or \n"
     ]
    }
   ],
   "source": [
    "#Problem_5\n",
    "\n",
    "import re\n",
    "\n",
    "regex_1 = r'(?<= )&&(?= )'\n",
    "regex_2 = r'(?<= )\\|\\|(?= )'\n",
    "\n",
    "n = int(input())\n",
    "\n",
    "for i in range(n):\n",
    "    k = input()\n",
    "    k = re.sub(regex_1, \"and\", k) \n",
    "    k = re.sub(regex_2, \"or\", k) \n",
    "    print(k)\n"
   ]
  },
  {
   "cell_type": "code",
   "execution_count": 15,
   "id": "ee23560b",
   "metadata": {},
   "outputs": [
    {
     "name": "stdout",
     "output_type": "stream",
     "text": [
      "CDXX\n",
      "True\n"
     ]
    }
   ],
   "source": [
    "#Problem_6\n",
    "\n",
    "regex_pattern = r\"^M{0,3}(CM|CD|D?C{0,3})(XC|XL|L?X{0,3})(IX|IV|V?I{0,3})$\"\n",
    "\n",
    "import re\n",
    "print(str(bool(re.match(regex_pattern, input()))))"
   ]
  },
  {
   "cell_type": "code",
   "execution_count": 2,
   "id": "1e28180b",
   "metadata": {},
   "outputs": [
    {
     "name": "stdout",
     "output_type": "stream",
     "text": [
      "2\n",
      "9876545678\n",
      "YES\n",
      "456789345\n",
      "NO\n"
     ]
    }
   ],
   "source": [
    "#Problem_7\n",
    "\n",
    "import re\n",
    "\n",
    "n = int(input())\n",
    "k = r'^[789]\\d{9}$'\n",
    "\n",
    "for i in range(n):\n",
    "    mobile_number = input()\n",
    "    matches = re.match(k , mobile_number)\n",
    "    if matches :\n",
    "        print(\"YES\")\n",
    "    else:\n",
    "        print(\"NO\")\n",
    "\n"
   ]
  },
  {
   "cell_type": "code",
   "execution_count": 3,
   "id": "3ac244f4",
   "metadata": {},
   "outputs": [
    {
     "name": "stdout",
     "output_type": "stream",
     "text": [
      "2\n",
      "VIRUS <virus!@variable.:p>\n",
      "DEXTER <dexter@hotmail.com>\n",
      "DEXTER <dexter@hotmail.com>\n"
     ]
    }
   ],
   "source": [
    "#Problem_8\n",
    "\n",
    "import re\n",
    "\n",
    "n = int(input())\n",
    "k = r'<[a-zA-Z][\\w\\.\\-]*@[a-zA-Z]+\\.[a-zA-Z]{1,3}>'\n",
    "\n",
    "for i in range (n):\n",
    "    email = input()\n",
    "    matches = re.search(k , email)\n",
    "    if matches :\n",
    "        print(email)"
   ]
  },
  {
   "cell_type": "code",
   "execution_count": 8,
   "id": "91f6ddf8",
   "metadata": {},
   "outputs": [
    {
     "name": "stdout",
     "output_type": "stream",
     "text": [
      "11\n",
      "{\n",
      "    color: #FfFdF8; background-color:#aef;\n",
      "    font-size: 123px;\n",
      "    background: -webkit-linear-gradient(top, #f9f9f9, #fff);\n",
      "}\n",
      "#cab\n",
      "{\n",
      "    background-color: #ABC;\n",
      "    border: 2px dashed #fff;\n",
      "}\n",
      "#close\n",
      "#FfFdF8\n",
      "#aef\n",
      "#f9f9f9\n",
      "#fff\n",
      "#ABC\n",
      "#fff\n"
     ]
    }
   ],
   "source": [
    "#Problem_9\n",
    "\n",
    "import re\n",
    "s = int(input())\n",
    "pattern = re.compile(r'#[0-9a-fA-F]{3,6}\\b')\n",
    "\n",
    "code = []\n",
    "for i in range(s):\n",
    "    k = input()\n",
    "    if k.endswith(';'):\n",
    "        code = code + [m.group(0) for m in re.finditer(pattern, k)]\n",
    "print(*code, sep='\\n')"
   ]
  },
  {
   "cell_type": "code",
   "execution_count": 17,
   "id": "2a72adbe",
   "metadata": {},
   "outputs": [
    {
     "name": "stdout",
     "output_type": "stream",
     "text": [
      "2\n",
      "<html><head><title>HTML Parser - I</title></head>\n",
      "Start : html\n",
      "Start : head\n",
      "Start : title\n",
      "End   : title\n",
      "End   : head\n",
      "<body data-modal-target class='1'><h1>HackerRank</h1><br /></body></html>\n",
      "Start : body\n",
      "-> data-modal-target > None\n",
      "-> class > 1\n",
      "Start : h1\n",
      "End   : h1\n",
      "Empty : br\n",
      "End   : body\n",
      "End   : html\n"
     ]
    }
   ],
   "source": [
    "#Problem_10\n",
    "\n",
    "from html.parser import HTMLParser\n",
    "n = int(input())\n",
    "\n",
    "def show(attrs):\n",
    "    for attr in attrs:\n",
    "            print(\"-> {0} > {1}\".format(attr[0], attr[1]))\n",
    "            \n",
    "class Parser(HTMLParser):\n",
    "    def handle_starttag(self, tag, attrs):\n",
    "        print(f\"Start : {tag}\")\n",
    "        show(attrs)\n",
    "            \n",
    "    def handle_endtag(self, tag):\n",
    "        print(\"End   : \" + tag)\n",
    "\n",
    "    def handle_startendtag(self, tag, attrs):\n",
    "        print(\"Empty :\", tag)\n",
    "        show(attrs)   \n",
    "                \n",
    "S = Parser()\n",
    "for i in range(n):\n",
    "    S.feed(input())\n"
   ]
  },
  {
   "cell_type": "code",
   "execution_count": 28,
   "id": "4834c194",
   "metadata": {},
   "outputs": [
    {
     "name": "stdout",
     "output_type": "stream",
     "text": [
      "2\n",
      "<!--[if IE 9]>IE9-specific content\n",
      "<div> Welcome to HackerRank</div>\n",
      ">>> Data\n",
      "<!--[if IE 9]>\n",
      ">>> Data\n",
      " Welcome to HackerRank\n"
     ]
    }
   ],
   "source": [
    "#Problem_11\n",
    "\n",
    "from html.parser import HTMLParser\n",
    "\n",
    "class MyHTMLParser(HTMLParser):\n",
    "  \n",
    "    def handle_comment(self, data):\n",
    "        if '\\n' not in data:\n",
    "            print('>>> Single-line Comment', data, sep='\\n')\n",
    "        else:\n",
    "            print('>>> Multi-line Comment', data, sep='\\n')\n",
    "    def handle_data(self, data):\n",
    "        if '\\n' not in data:\n",
    "            print('>>> Data', data, sep='\\n')            \n",
    "            \n",
    "html = \"\"       \n",
    "for i in range(int(input())):\n",
    "    html += input().rstrip()\n",
    "    html += '\\n'\n",
    "    \n",
    "parser = MyHTMLParser()\n",
    "parser.feed(html)\n",
    "parser.close()"
   ]
  },
  {
   "cell_type": "code",
   "execution_count": 30,
   "id": "46f72148",
   "metadata": {},
   "outputs": [
    {
     "name": "stdout",
     "output_type": "stream",
     "text": [
      "9\n",
      "<head>\n",
      "head\n",
      "<title>HTML</title>\n",
      "title\n",
      "</head>\n",
      "<object type=\"application/x-flash\" \n",
      "  data=\"your-file.swf\" \n",
      "  width=\"0\" height=\"0\">\n",
      "object\n",
      "-> type > application/x-flash\n",
      "-> data > your-file.swf\n",
      "-> width > 0\n",
      "-> height > 0\n",
      "  <!-- <param name=\"movie\" value=\"your-file.swf\" /> -->\n",
      "  <param name=\"quality\" value=\"high\"/>\n",
      "param\n",
      "-> name > quality\n",
      "-> value > high\n",
      "</object>\n"
     ]
    }
   ],
   "source": [
    "#Problem_12\n",
    "\n",
    "from html.parser import HTMLParser\n",
    "\n",
    "def show(attrs):\n",
    "    for attr in attrs:\n",
    "            print(\"-> {0} > {1}\".format(attr[0], attr[1]))\n",
    "\n",
    "class Parser(HTMLParser):\n",
    "    def handle_starttag(self, tag , attrs):\n",
    "        print(tag)\n",
    "        show(attrs)\n",
    "            \n",
    "S = Parser()\n",
    "N = int(input())\n",
    "for i in range(N):\n",
    "    S.feed(input())"
   ]
  },
  {
   "cell_type": "code",
   "execution_count": 32,
   "id": "b6946971",
   "metadata": {},
   "outputs": [
    {
     "name": "stdout",
     "output_type": "stream",
     "text": [
      "1\n",
      "B1CDEF2354\n",
      "Valid\n"
     ]
    }
   ],
   "source": [
    "#Problem_13\n",
    "\n",
    "import re\n",
    "\n",
    "def isvalid(uid):\n",
    "    if not re.match(r'^[a-zA-Z0-9]{10}$', uid):\n",
    "        return False\n",
    "\n",
    "    if not re.search(r'[A-Z].*[A-Z]', uid):\n",
    "        return False\n",
    "\n",
    "    if not re.search(r'[0-9].*[0-9].*[0-9]', uid):\n",
    "        return False\n",
    "\n",
    "    if len(set(uid)) != len(uid):\n",
    "        return False\n",
    "\n",
    "    return True\n",
    "\n",
    "k = int(input())\n",
    "\n",
    "for i in range(k):\n",
    "    uid = input().strip()\n",
    "    if isvalid(uid):\n",
    "        print(\"Valid\")\n",
    "    else:\n",
    "        print(\"Invalid\")\n"
   ]
  },
  {
   "cell_type": "code",
   "execution_count": 35,
   "id": "af87d20b",
   "metadata": {},
   "outputs": [
    {
     "name": "stdout",
     "output_type": "stream",
     "text": [
      "1\n",
      "4123456789123456\n",
      "Valid\n"
     ]
    }
   ],
   "source": [
    "#Problem_14\n",
    "\n",
    "import re\n",
    "\n",
    "pattern = re.compile(r'^(?!.*(\\d)(-?\\1){3})[456]\\d{3}(?:-?\\d{4}){3}$')\n",
    "def check_repeating(s):\n",
    "    for i in range(len(s) - 3):\n",
    "        if s[i] == s[i+1] == s[i+2] == s[i+3]:\n",
    "            return False\n",
    "    return True\n",
    "\n",
    "n = int(input())\n",
    "\n",
    "for i in range(n):\n",
    "    s = input().strip()\n",
    "    \n",
    "    if pattern.match(s) and check_repeating(s.replace('-', '')):\n",
    "        print('Valid')\n",
    "    else:\n",
    "        print('Invalid')\n"
   ]
  },
  {
   "cell_type": "code",
   "execution_count": 36,
   "id": "ae73586d",
   "metadata": {},
   "outputs": [
    {
     "name": "stdout",
     "output_type": "stream",
     "text": [
      "110000\n",
      "False\n"
     ]
    }
   ],
   "source": [
    "#Problem_15\n",
    "\n",
    "regex_integer_in_range = r\" ^[1-9][\\d]{5}$\"\t# Do not delete 'r'.\n",
    "regex_alternating_repetitive_digit_pair = r\"(?=(\\d)\\d\\1)(?!.*(\\d)(-?\\1){2})\"\t# Do not delete 'r'.\n",
    "\n",
    "\n",
    "import re\n",
    "P = input()\n",
    "\n",
    "print (bool(re.match(regex_integer_in_range, P)) \n",
    "and len(re.findall(regex_alternating_repetitive_digit_pair, P)) < 2)"
   ]
  },
  {
   "cell_type": "code",
   "execution_count": 3,
   "id": "89491030",
   "metadata": {},
   "outputs": [
    {
     "name": "stdout",
     "output_type": "stream",
     "text": [
      "3 1\n",
      "Tsi\n",
      "h%x\n",
      "i #\n",
      "This ix#\n",
      "sM \n"
     ]
    },
    {
     "ename": "ValueError",
     "evalue": "invalid literal for int() with base 10: 'sM'",
     "output_type": "error",
     "traceback": [
      "\u001b[1;31m---------------------------------------------------------------------------\u001b[0m",
      "\u001b[1;31mValueError\u001b[0m                                Traceback (most recent call last)",
      "\u001b[1;32m~\\AppData\\Local\\Temp/ipykernel_14056/1262696477.py\u001b[0m in \u001b[0;36m<module>\u001b[1;34m\u001b[0m\n\u001b[0;32m     18\u001b[0m \u001b[0mfirst_multiple_input\u001b[0m \u001b[1;33m=\u001b[0m \u001b[0minput\u001b[0m\u001b[1;33m(\u001b[0m\u001b[1;33m)\u001b[0m\u001b[1;33m.\u001b[0m\u001b[0mrstrip\u001b[0m\u001b[1;33m(\u001b[0m\u001b[1;33m)\u001b[0m\u001b[1;33m.\u001b[0m\u001b[0msplit\u001b[0m\u001b[1;33m(\u001b[0m\u001b[1;33m)\u001b[0m\u001b[1;33m\u001b[0m\u001b[1;33m\u001b[0m\u001b[0m\n\u001b[0;32m     19\u001b[0m \u001b[1;33m\u001b[0m\u001b[0m\n\u001b[1;32m---> 20\u001b[1;33m \u001b[0mn\u001b[0m \u001b[1;33m=\u001b[0m \u001b[0mint\u001b[0m\u001b[1;33m(\u001b[0m\u001b[0mfirst_multiple_input\u001b[0m\u001b[1;33m[\u001b[0m\u001b[1;36m0\u001b[0m\u001b[1;33m]\u001b[0m\u001b[1;33m)\u001b[0m\u001b[1;33m\u001b[0m\u001b[1;33m\u001b[0m\u001b[0m\n\u001b[0m\u001b[0;32m     21\u001b[0m \u001b[1;33m\u001b[0m\u001b[0m\n\u001b[0;32m     22\u001b[0m \u001b[0mm\u001b[0m \u001b[1;33m=\u001b[0m \u001b[0mint\u001b[0m\u001b[1;33m(\u001b[0m\u001b[0mfirst_multiple_input\u001b[0m\u001b[1;33m[\u001b[0m\u001b[1;36m1\u001b[0m\u001b[1;33m]\u001b[0m\u001b[1;33m)\u001b[0m\u001b[1;33m\u001b[0m\u001b[1;33m\u001b[0m\u001b[0m\n",
      "\u001b[1;31mValueError\u001b[0m: invalid literal for int() with base 10: 'sM'"
     ]
    }
   ],
   "source": [
    "#Problem_16\n",
    "\n",
    "\n",
    "#!/bin/python3\n",
    "\n",
    "import math\n",
    "import os\n",
    "import random\n",
    "import re\n",
    "import sys\n",
    "reg = r'(?<=[a-zA-Z0-9])[!@#$%&\\s]+(?=[a-zA-Z0-9])'\n",
    "n, m = list(map(int,input().split(' ')))\n",
    "matrix = [input() for i in range(n)]\n",
    "string = ''.join([''.join(i) for i in zip(*matrix)])\n",
    "print(re.sub(reg,' ',string))\n",
    "\n",
    "\n",
    "first_multiple_input = input().rstrip().split()\n",
    "\n",
    "n = int(first_multiple_input[0])\n",
    "\n",
    "m = int(first_multiple_input[1])\n",
    "\n",
    "matrix = []\n",
    "\n",
    "for i in range(n):\n",
    "    matrix_item = input()\n",
    "    matrix.append(matrix_item)\n",
    "    \n",
    "    "
   ]
  },
  {
   "cell_type": "code",
   "execution_count": null,
   "id": "407ebc17",
   "metadata": {},
   "outputs": [],
   "source": []
  }
 ],
 "metadata": {
  "kernelspec": {
   "display_name": "Python 3 (ipykernel)",
   "language": "python",
   "name": "python3"
  },
  "language_info": {
   "codemirror_mode": {
    "name": "ipython",
    "version": 3
   },
   "file_extension": ".py",
   "mimetype": "text/x-python",
   "name": "python",
   "nbconvert_exporter": "python",
   "pygments_lexer": "ipython3",
   "version": "3.9.7"
  }
 },
 "nbformat": 4,
 "nbformat_minor": 5
}
