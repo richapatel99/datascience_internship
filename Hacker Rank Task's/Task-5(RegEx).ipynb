{
 "cells": [
  {
   "cell_type": "code",
   "execution_count": 3,
   "id": "51aad76b",
   "metadata": {},
   "outputs": [
    {
     "name": "stdout",
     "output_type": "stream",
     "text": [
      "100,000,000.000\n",
      "100\n",
      "000\n",
      "000\n",
      "000\n"
     ]
    }
   ],
   "source": [
    "#Problem_1\n",
    "\n",
    "regex_pattern = r'(?<=\\d)[,.](?=\\d)'\t# Do not delete 'r'.\n",
    "c = input()\n",
    "\n",
    "import re\n",
    "print(\"\\n\".join(re.split(regex_pattern,c)))"
   ]
  },
  {
   "cell_type": "code",
   "execution_count": 27,
   "id": "db46a0dd",
   "metadata": {},
   "outputs": [
    {
     "name": "stdout",
     "output_type": "stream",
     "text": [
      "..12345678910111213141516171820212223\n",
      "1\n"
     ]
    }
   ],
   "source": [
    "#Problem_2\n",
    "\n",
    "s = input().strip()\n",
    "\n",
    "prev_char == 0\n",
    "for c in s:\n",
    "    if c.isalnum() and c == prev_char:\n",
    "        print(c)\n",
    "        break\n",
    "        prev_char = c\n",
    "else:\n",
    "    print(-1)"
   ]
  },
  {
   "cell_type": "code",
   "execution_count": 29,
   "id": "0ec52a3b",
   "metadata": {},
   "outputs": [
    {
     "name": "stdout",
     "output_type": "stream",
     "text": [
      "rabcdeefgyYhFjkIoomnpOeorteeeeet\n",
      "ee\n",
      "Ioo\n",
      "Oeo\n",
      "eeeee\n"
     ]
    }
   ],
   "source": [
    "#Problem_3\n",
    "\n",
    "import re\n",
    "\n",
    "s = input().strip()\n",
    "k = r'(?<=[^aeiouAEIOU0-9])([aeiouAEIOU]{2,})(?=[^aeiouAEIOU0-9])'\n",
    "\n",
    "matches = re.findall(k, s)\n",
    "\n",
    "if matches:\n",
    "    for i in matches:\n",
    "        print(i)\n",
    "else:\n",
    "    print(-1)\n"
   ]
  },
  {
   "cell_type": "code",
   "execution_count": 3,
   "id": "1352e8e2",
   "metadata": {},
   "outputs": [],
   "source": [
    "#Problem_4\n",
    "\n",
    "\n"
   ]
  },
  {
   "cell_type": "code",
   "execution_count": 6,
   "id": "3a4093eb",
   "metadata": {},
   "outputs": [
    {
     "name": "stdout",
     "output_type": "stream",
     "text": [
      "2\n",
      " && \n",
      " and \n",
      " || \n",
      " or \n"
     ]
    }
   ],
   "source": [
    "#Problem_5\n",
    "\n",
    "import re\n",
    "\n",
    "regex_1 = r'(?<= )&&(?= )'\n",
    "regex_2 = r'(?<= )\\|\\|(?= )'\n",
    "\n",
    "n = int(input())\n",
    "\n",
    "for i in range(n):\n",
    "    k = input()\n",
    "    k = re.sub(regex_1, \"and\", k) \n",
    "    k = re.sub(regex_2, \"or\", k) \n",
    "    print(k)\n"
   ]
  },
  {
   "cell_type": "code",
   "execution_count": 15,
   "id": "ee23560b",
   "metadata": {},
   "outputs": [
    {
     "name": "stdout",
     "output_type": "stream",
     "text": [
      "CDXX\n",
      "True\n"
     ]
    }
   ],
   "source": [
    "#Problem_6\n",
    "\n",
    "regex_pattern = r\"^M{0,3}(CM|CD|D?C{0,3})(XC|XL|L?X{0,3})(IX|IV|V?I{0,3})$\"\n",
    "\n",
    "import re\n",
    "print(str(bool(re.match(regex_pattern, input()))))"
   ]
  },
  {
   "cell_type": "code",
   "execution_count": 2,
   "id": "1e28180b",
   "metadata": {},
   "outputs": [
    {
     "name": "stdout",
     "output_type": "stream",
     "text": [
      "2\n",
      "9876545678\n",
      "YES\n",
      "456789345\n",
      "NO\n"
     ]
    }
   ],
   "source": [
    "#Problem_7\n",
    "\n",
    "import re\n",
    "\n",
    "n = int(input())\n",
    "k = r'^[789]\\d{9}$'\n",
    "\n",
    "for i in range(n):\n",
    "    mobile_number = input()\n",
    "    matches = re.match(k , mobile_number)\n",
    "    if matches :\n",
    "        print(\"YES\")\n",
    "    else:\n",
    "        print(\"NO\")\n",
    "\n"
   ]
  },
  {
   "cell_type": "code",
   "execution_count": 3,
   "id": "3ac244f4",
   "metadata": {},
   "outputs": [
    {
     "name": "stdout",
     "output_type": "stream",
     "text": [
      "2\n",
      "VIRUS <virus!@variable.:p>\n",
      "DEXTER <dexter@hotmail.com>\n",
      "DEXTER <dexter@hotmail.com>\n"
     ]
    }
   ],
   "source": [
    "#Problem_8\n",
    "\n",
    "import re\n",
    "\n",
    "n = int(input())\n",
    "k = r'<[a-zA-Z][\\w\\.\\-]*@[a-zA-Z]+\\.[a-zA-Z]{1,3}>'\n",
    "\n",
    "for i in range (n):\n",
    "    email = input()\n",
    "    matches = re.search(k , email)\n",
    "    if matches :\n",
    "        print(email)"
   ]
  },
  {
   "cell_type": "code",
   "execution_count": null,
   "id": "91f6ddf8",
   "metadata": {},
   "outputs": [],
   "source": [
    "#Problem_9\n",
    "\n"
   ]
  },
  {
   "cell_type": "code",
   "execution_count": null,
   "id": "6535a118",
   "metadata": {},
   "outputs": [],
   "source": []
  },
  {
   "cell_type": "code",
   "execution_count": null,
   "id": "8c5d1981",
   "metadata": {},
   "outputs": [],
   "source": []
  }
 ],
 "metadata": {
  "kernelspec": {
   "display_name": "Python 3 (ipykernel)",
   "language": "python",
   "name": "python3"
  },
  "language_info": {
   "codemirror_mode": {
    "name": "ipython",
    "version": 3
   },
   "file_extension": ".py",
   "mimetype": "text/x-python",
   "name": "python",
   "nbconvert_exporter": "python",
   "pygments_lexer": "ipython3",
   "version": "3.9.7"
  }
 },
 "nbformat": 4,
 "nbformat_minor": 5
}
