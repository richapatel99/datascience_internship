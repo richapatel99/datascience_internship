{
 "cells": [
  {
   "cell_type": "code",
   "execution_count": 29,
   "id": "ffae7258",
   "metadata": {},
   "outputs": [
    {
     "name": "stdout",
     "output_type": "stream",
     "text": [
      "5\n",
      "2 3 6 6 5\n",
      "5\n"
     ]
    }
   ],
   "source": [
    "#Problem_1\n",
    "\n",
    "n = int(input())\n",
    "arr = sorted(map(int, input().split(' ')))\n",
    "    \n",
    "arr.sort(reverse=True)\n",
    "# arr.sort()\n",
    "# print(arr)\n",
    "\n",
    "# runner_up_score = None\n",
    "\n",
    "for i in range(1,n):\n",
    "    if arr[i] != arr[0]:\n",
    "        runner_up_score = arr[i]\n",
    "        break\n",
    "\n",
    "# if runner_up_score is None:\n",
    "#     print(\"There is no runner-up score.\")\n",
    "# else:\n",
    "\n",
    "print(runner_up_score)\n",
    "   "
   ]
  },
  {
   "cell_type": "code",
   "execution_count": 35,
   "id": "a52b6750",
   "metadata": {},
   "outputs": [
    {
     "name": "stdout",
     "output_type": "stream",
     "text": [
      "6\n",
      "harry\n",
      "34\n",
      "jay\n",
      "22\n",
      "sid\n",
      "22.5\n",
      "parth\n",
      "22.5\n",
      "nihil\n",
      "45\n",
      "tony\n",
      "45\n",
      "The second lowest Score students : parth\n",
      "The second lowest Score students : sid\n"
     ]
    }
   ],
   "source": [
    "#Problem_2\n",
    "\n",
    "n = int(input())\n",
    "students = []\n",
    "for i in range(n):\n",
    "    name = input()\n",
    "    score = float(input())\n",
    "    students.append([name,score])\n",
    "students.sort(key=lambda x: x[1])\n",
    "\n",
    "second_lowest_score = None\n",
    "for student in students:\n",
    "    if second_lowest_score is None:\n",
    "        if student[1] != students[0][1]:\n",
    "            second_lowest_score = student[1]\n",
    "    elif student[1] > second_lowest_score:\n",
    "        break\n",
    "    elif student[1] < second_lowest_score:\n",
    "        second_lowest_score = student[1]\n",
    "\n",
    "names = []\n",
    "for student in students:\n",
    "    if student[1] == second_lowest_score:\n",
    "        names.append(student[0])\n",
    "\n",
    "names.sort()\n",
    "for name in names:\n",
    "    print(\"The second lowest Score students :\", name)"
   ]
  },
  {
   "cell_type": "code",
   "execution_count": 40,
   "id": "464a40e2",
   "metadata": {},
   "outputs": [
    {
     "name": "stdout",
     "output_type": "stream",
     "text": [
      "2\n",
      "harry 65 76\n",
      "harsh 54 65\n",
      " find the avg score of:harsh\n",
      "59.50\n"
     ]
    }
   ],
   "source": [
    "#Problem_3\n",
    "\n",
    "n = int(input())\n",
    "student_marks = {}\n",
    "for i in range(n):\n",
    "    name, *scores = input().split(\" \")\n",
    "    scores = list(map(float, scores))\n",
    "    student_marks[name] = scores\n",
    "query_name = input(\" find the avg score of:\")\n",
    "\n",
    "scores = student_marks[query_name]\n",
    "average = sum(scores) / len(scores)\n",
    "\n",
    "print(\"{:.2f}\".format(average))\n"
   ]
  },
  {
   "cell_type": "code",
   "execution_count": 44,
   "id": "101bebde",
   "metadata": {},
   "outputs": [
    {
     "name": "stdout",
     "output_type": "stream",
     "text": [
      "20\n",
      "insert  0 5 \n",
      "insert 1 10\n",
      "insert 0 6\n",
      "print\n",
      "[6, 5, 10]\n",
      "remove 6\n",
      "append 9\n",
      "append 1\n",
      "print\n",
      "[5, 10, 9, 1]\n",
      "sort\n",
      "pop\n",
      "print\n",
      "[1, 5, 9]\n",
      "reverse\n",
      "print\n",
      "[9, 5, 1]\n",
      "remove 9\n",
      "append 3 \n",
      "print\n",
      "[5, 1, 3]\n",
      "sort\n",
      "print\n",
      "[1, 3, 5]\n",
      "reverse\n",
      "print\n",
      "[5, 3, 1]\n"
     ]
    }
   ],
   "source": [
    "#Problem_4\n",
    "\n",
    "my_list = []\n",
    "\n",
    "n = int(input())\n",
    "\n",
    "for i in range(n):\n",
    "    command = input().split()\n",
    "    if command[0] == \"insert\":\n",
    "        my_list.insert(int(command[1]), int(command[2]))\n",
    "    elif command[0] == \"print\":\n",
    "        print(my_list)\n",
    "    elif command[0] == \"remove\":\n",
    "        my_list.remove(int(command[1]))\n",
    "    elif command[0] == \"append\":\n",
    "        my_list.append(int(command[1]))\n",
    "    elif command[0] == \"sort\":\n",
    "        my_list.sort()\n",
    "    elif command[0] == \"pop\":\n",
    "        my_list.pop()\n",
    "    elif command[0] == \"reverse\":\n",
    "        my_list.reverse()\n"
   ]
  },
  {
   "cell_type": "code",
   "execution_count": 58,
   "id": "dde24579",
   "metadata": {},
   "outputs": [
    {
     "name": "stdout",
     "output_type": "stream",
     "text": [
      "2\n",
      "1 2\n",
      "-3550055125485641917\n"
     ]
    }
   ],
   "source": [
    "#Problem_5\n",
    "\n",
    "n = int(input())\n",
    "integer_list = map(int, input().split())\n",
    "t = tuple(integer_list)\n",
    "\n",
    "print(hash(t))"
   ]
  },
  {
   "cell_type": "code",
   "execution_count": 61,
   "id": "e151fdf1",
   "metadata": {},
   "outputs": [
    {
     "name": "stdout",
     "output_type": "stream",
     "text": [
      "3\n",
      "1 3 4\n",
      "2.667\n"
     ]
    }
   ],
   "source": [
    "#Problem_6\n",
    "\n",
    "def average(arr):\n",
    "    height = set(arr)\n",
    "    average = sum(height) / len(height)\n",
    "    return round(average, 3)\n",
    "\n",
    "if __name__ == '__main__':\n",
    "    n = int(input())\n",
    "    arr = list(map(int, input().split()))\n",
    "    result = average(arr)\n",
    "    print(result)\n"
   ]
  },
  {
   "cell_type": "code",
   "execution_count": 6,
   "id": "22e9b1b9",
   "metadata": {},
   "outputs": [
    {
     "name": "stdout",
     "output_type": "stream",
     "text": [
      "3 2\n",
      "1 5 3\n",
      "3 1 \n",
      "5 7\n",
      "1\n"
     ]
    }
   ],
   "source": [
    "#Problem_7\n",
    "\n",
    "n, m = map(int, input().split())\n",
    "array = list(map(int, input().split()))\n",
    "happy = set(map(int, input().split()))\n",
    "sad = set(map(int, input().split()))\n",
    "\n",
    "happiness = 0\n",
    "for i in array:\n",
    "    if i in happy:\n",
    "        happiness = happiness + 1\n",
    "    elif i in sad:\n",
    "        happiness = happiness - 1\n",
    "\n",
    "print(happiness)\n"
   ]
  },
  {
   "cell_type": "code",
   "execution_count": 16,
   "id": "58dd71a2",
   "metadata": {},
   "outputs": [
    {
     "name": "stdout",
     "output_type": "stream",
     "text": [
      "4\n",
      "2 4 5 9\n",
      "4\n",
      "2 4 11 12\n",
      "5\n",
      "9\n",
      "11\n",
      "12\n"
     ]
    }
   ],
   "source": [
    "#Problem_8\n",
    "\n",
    "n = int(input())\n",
    "set_n = set(map(int, input().split()))\n",
    "\n",
    "m = int(input())\n",
    "set_m = set(map(int, input().split()))\n",
    "\n",
    "diff = set_n.symmetric_difference(set_m)\n",
    "\n",
    "result = list(diff)\n",
    "result.sort()\n",
    "\n",
    "for i in result:\n",
    "    print(i)\n",
    "\n",
    "\n"
   ]
  },
  {
   "cell_type": "code",
   "execution_count": 20,
   "id": "9129f14a",
   "metadata": {},
   "outputs": [
    {
     "name": "stdout",
     "output_type": "stream",
     "text": [
      "4\n",
      "US\n",
      "Canada\n",
      "India\n",
      "Africa\n",
      "4\n"
     ]
    }
   ],
   "source": [
    "#Problem_9\n",
    "\n",
    "n = int(input())\n",
    "\n",
    "country_stamps = set()\n",
    "\n",
    "for i in range(n):\n",
    "    country = input()\n",
    "    country_stamps.add(country)\n",
    "\n",
    "print(len(country_stamps))\n"
   ]
  },
  {
   "cell_type": "code",
   "execution_count": 1,
   "id": "a9e9f54d",
   "metadata": {},
   "outputs": [
    {
     "name": "stdout",
     "output_type": "stream",
     "text": [
      "5\n",
      "1 2 3 4 5\n",
      "4\n",
      "pop\n",
      "discard 7\n",
      "remove 4\n",
      "pop\n",
      "8\n"
     ]
    }
   ],
   "source": [
    "#Problem_10\n",
    "\n",
    "n = int(input())\n",
    "s = set(map(int, input().split()))\n",
    "N = int(input())\n",
    "\n",
    "for i in range(N):\n",
    "    cmd = input().split()\n",
    "    if cmd[0] == 'pop':\n",
    "        s.pop()\n",
    "    elif cmd[0] == 'remove':\n",
    "        s.remove(int(cmd[1]))\n",
    "    elif cmd[0] == 'discard':\n",
    "        s.discard(int(cmd[1]))\n",
    "\n",
    "print(sum(s))"
   ]
  },
  {
   "cell_type": "code",
   "execution_count": 4,
   "id": "3f045565",
   "metadata": {},
   "outputs": [
    {
     "name": "stdout",
     "output_type": "stream",
     "text": [
      "3\n",
      "1 2 3\n",
      "6\n",
      "1 2 3 4 5 6\n",
      "6\n"
     ]
    }
   ],
   "source": [
    "#Problem_11\n",
    "\n",
    "n = int(input())\n",
    "class_1 = set(map(int, input().split()))\n",
    "m = int(input())\n",
    "class_2 = set(map(int, input().split()))\n",
    "\n",
    "total = len(class_1.union(class_2))\n",
    "print(total)\n"
   ]
  },
  {
   "cell_type": "code",
   "execution_count": 6,
   "id": "77dfca61",
   "metadata": {},
   "outputs": [
    {
     "name": "stdout",
     "output_type": "stream",
     "text": [
      "3\n",
      "1 2 3\n",
      "6\n",
      "1 2 3 4 5 6\n",
      "3\n"
     ]
    }
   ],
   "source": [
    "#Problem_12\n",
    "\n",
    "n = int(input())\n",
    "class_1 = set(map(int, input().split()))\n",
    "m = int(input())\n",
    "class_2 = set(map(int, input().split()))\n",
    "\n",
    "common = class_1.intersection(class_2)\n",
    "total = len(common)\n",
    "\n",
    "print(total)\n"
   ]
  },
  {
   "cell_type": "code",
   "execution_count": 13,
   "id": "eb4f953f",
   "metadata": {},
   "outputs": [
    {
     "name": "stdout",
     "output_type": "stream",
     "text": [
      "3\n",
      "1 2 3\n",
      "3\n",
      "2 4 3\n",
      "1\n"
     ]
    }
   ],
   "source": [
    "#Problem_13\n",
    "\n",
    "n = int(input())\n",
    "class_1 = set(map(int, input().split()))\n",
    "m = int(input())\n",
    "class_2 = set(map(int, input().split()))\n",
    "\n",
    "common = list(class_1.difference(class_2))\n",
    "total = len(common)\n",
    "\n",
    "print(total)"
   ]
  },
  {
   "cell_type": "code",
   "execution_count": 14,
   "id": "b6bf1715",
   "metadata": {
    "scrolled": true
   },
   "outputs": [
    {
     "name": "stdout",
     "output_type": "stream",
     "text": [
      "9\n",
      "1 2 3 4 5 6 7 8 9\n",
      "9\n",
      "10 1 2 3 11 21 55 6 8\n",
      "8\n"
     ]
    }
   ],
   "source": [
    "#Problem_14\n",
    "\n",
    "n = int(input())\n",
    "class_1 = set(map(int, input().split()))\n",
    "m = int(input())\n",
    "class_2 = set(map(int, input().split()))\n",
    "\n",
    "common = (class_1.symmetric_difference(class_2))\n",
    "total = len(common)\n",
    "\n",
    "print(total)"
   ]
  },
  {
   "cell_type": "code",
   "execution_count": 1,
   "id": "9b5ab85c",
   "metadata": {},
   "outputs": [
    {
     "name": "stdout",
     "output_type": "stream",
     "text": [
      "16\n",
      "1 2 3 4 5 6 7 8 9 10 11 12 13 14 24 52\n",
      "4\n",
      "intersection_update 10\n",
      "2 3 5 6 8 9 1 4 7 11\n",
      "update 2\n",
      "55 66\n",
      "symmetric_difference_update 5\n",
      "22 7 35 62 58\n",
      "difference_update 7\n",
      "11 22 35 55 58 62 66\n",
      "38\n"
     ]
    }
   ],
   "source": [
    "#Problem_15\n",
    "\n",
    "n = int(input())\n",
    "class_1 = set(map(int, input().split()))\n",
    "m = int(input())\n",
    "\n",
    "for i in range(m):\n",
    "    op, len_s = input().split()\n",
    "    class_2 = set(map(int, input().split()))\n",
    "    if op == 'intersection_update':\n",
    "        class_1.intersection_update(class_2)\n",
    "    elif op == 'update':\n",
    "        class_1.update(class_2)\n",
    "    elif op == 'symmetric_difference_update':\n",
    "        class_1.symmetric_difference_update(class_2)\n",
    "    elif op == 'difference_update':\n",
    "        class_1.difference_update(class_2)\n",
    "\n",
    "print(sum(class_1))"
   ]
  },
  {
   "cell_type": "code",
   "execution_count": 3,
   "id": "60b231c2",
   "metadata": {},
   "outputs": [
    {
     "name": "stdout",
     "output_type": "stream",
     "text": [
      "2\n",
      "1 4 6 4 6 5 1\n",
      "5\n"
     ]
    }
   ],
   "source": [
    "#Problem_16\n",
    "\n",
    "group_no = int(input())\n",
    "room_no = list(map(int, input().split()))\n",
    "\n",
    "freq_dict = {}\n",
    "for c_room in room_no:\n",
    "    if c_room in freq_dict:\n",
    "        freq_dict[c_room] = freq_dict[c_room] + 1\n",
    "    else:\n",
    "        freq_dict[c_room] = 1\n",
    "\n",
    "for c_room, freq in freq_dict.items():\n",
    "    if freq == 1:\n",
    "        print(c_room)\n",
    "        break\n"
   ]
  },
  {
   "cell_type": "code",
   "execution_count": 9,
   "id": "5a89b46a",
   "metadata": {},
   "outputs": [
    {
     "name": "stdout",
     "output_type": "stream",
     "text": [
      "1\n",
      "2\n",
      "34\n",
      "4\n",
      "5678\n",
      "False\n"
     ]
    }
   ],
   "source": [
    "#Problem_17\n",
    "\n",
    "T = int(input())\n",
    "\n",
    "for i in range(T):\n",
    "    n = int(input())\n",
    "    set_a = set(map(int, input().split()))\n",
    "    m = int(input())\n",
    "    set_b = set(map(int, input().split()))\n",
    "    \n",
    "    if set_a.issubset(set_b):\n",
    "        print(True)\n",
    "    else:\n",
    "        print(False)"
   ]
  },
  {
   "cell_type": "code",
   "execution_count": 1,
   "id": "190be4c9",
   "metadata": {},
   "outputs": [
    {
     "name": "stdout",
     "output_type": "stream",
     "text": [
      "1 2 3 4 5 6 7 8 9 10 11 12 23 45 84 78\n",
      "2\n",
      "1 2 3 4 5\n",
      "100 11 12\n",
      "False\n"
     ]
    }
   ],
   "source": [
    "#Problem_18\n",
    "\n",
    "U = set(map(int, input().split()))\n",
    "n = int(input())\n",
    "superset = True\n",
    "\n",
    "for i in range(n):\n",
    "    A = set(map(int, input().split()))\n",
    "    if not U.issuperset(A):\n",
    "        superset = False\n",
    "        break\n",
    "\n",
    "print(superset)\n"
   ]
  },
  {
   "cell_type": "code",
   "execution_count": null,
   "id": "be3f7c56",
   "metadata": {},
   "outputs": [],
   "source": []
  }
 ],
 "metadata": {
  "kernelspec": {
   "display_name": "Python 3 (ipykernel)",
   "language": "python",
   "name": "python3"
  },
  "language_info": {
   "codemirror_mode": {
    "name": "ipython",
    "version": 3
   },
   "file_extension": ".py",
   "mimetype": "text/x-python",
   "name": "python",
   "nbconvert_exporter": "python",
   "pygments_lexer": "ipython3",
   "version": "3.9.7"
  }
 },
 "nbformat": 4,
 "nbformat_minor": 5
}
