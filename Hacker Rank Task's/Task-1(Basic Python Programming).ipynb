{
 "cells": [
  {
   "cell_type": "markdown",
   "id": "41197308",
   "metadata": {},
   "source": [
    "## Task - 1 (Basic Python Programming)"
   ]
  },
  {
   "cell_type": "code",
   "execution_count": 6,
   "id": "33294d53",
   "metadata": {},
   "outputs": [
    {
     "name": "stdout",
     "output_type": "stream",
     "text": [
      "Hello, World!\n"
     ]
    }
   ],
   "source": [
    "# Problem_1\n",
    "\n",
    "print(\"Hello, World!\")"
   ]
  },
  {
   "cell_type": "code",
   "execution_count": 7,
   "id": "d1f19a05",
   "metadata": {},
   "outputs": [
    {
     "name": "stdout",
     "output_type": "stream",
     "text": [
      "enter first number:2\n",
      "enter second number:3\n",
      "5\n",
      "-1\n",
      "6\n"
     ]
    }
   ],
   "source": [
    "# Problem_2\n",
    "\n",
    "a = int(input(\"enter first number:\"))\n",
    "b = int(input(\"enter second number:\"))\n",
    "        \n",
    "print(a+b)\n",
    "print(a-b)\n",
    "print(a*b)"
   ]
  },
  {
   "cell_type": "code",
   "execution_count": 8,
   "id": "1ecd9693",
   "metadata": {},
   "outputs": [
    {
     "name": "stdout",
     "output_type": "stream",
     "text": [
      "3\n",
      "4\n",
      "0\n",
      "0.75\n"
     ]
    }
   ],
   "source": [
    "# Problem_3\n",
    "\n",
    "a = int(input())\n",
    "b = int(input())\n",
    "\n",
    "int = a//b\n",
    "float = a/b\n",
    "\n",
    "print(int)\n",
    "print(float)\n"
   ]
  },
  {
   "cell_type": "code",
   "execution_count": 4,
   "id": "8d5cb443",
   "metadata": {
    "scrolled": true
   },
   "outputs": [
    {
     "name": "stdout",
     "output_type": "stream",
     "text": [
      "5\n",
      "inputs: 0 --> sqrt 0\n",
      "inputs: 1 --> sqrt 1\n",
      "inputs: 2 --> sqrt 4\n",
      "inputs: 3 --> sqrt 9\n",
      "inputs: 4 --> sqrt 16\n"
     ]
    }
   ],
   "source": [
    "# Problem_4\n",
    "\n",
    "num = int(input())\n",
    "\n",
    "for i in range(num):\n",
    "    sqrt = i ** 2\n",
    "    print(\"inputs:\",i ,\"-->\", \"sqrt\",sqrt)"
   ]
  },
  {
   "cell_type": "code",
   "execution_count": 3,
   "id": "a4c52d52",
   "metadata": {},
   "outputs": [
    {
     "name": "stdout",
     "output_type": "stream",
     "text": [
      "1990\n",
      "False\n"
     ]
    }
   ],
   "source": [
    "# Problem_5\n",
    "\n",
    "year = int(input())\n",
    "\n",
    "def is_leap(year):\n",
    "    leap = False\n",
    "    \n",
    "    if year % 4 == 0:\n",
    "        leap = True\n",
    "        \n",
    "        if year % 100 == 0:\n",
    "            leap = False\n",
    "            \n",
    "            if year % 400 == 0:\n",
    "                leap = True\n",
    "                \n",
    "    return leap\n",
    "\n",
    "print(is_leap(year))"
   ]
  },
  {
   "cell_type": "code",
   "execution_count": 5,
   "id": "67dfa011",
   "metadata": {},
   "outputs": [
    {
     "name": "stdout",
     "output_type": "stream",
     "text": [
      "5\n",
      "12345\n"
     ]
    }
   ],
   "source": [
    "# Problem_6\n",
    "\n",
    "n = int(input())\n",
    "\n",
    "for i in range(1,n+1):\n",
    "    print(i, end='')\n",
    "print()"
   ]
  },
  {
   "cell_type": "code",
   "execution_count": null,
   "id": "3044bf91",
   "metadata": {},
   "outputs": [],
   "source": []
  }
 ],
 "metadata": {
  "kernelspec": {
   "display_name": "Python 3 (ipykernel)",
   "language": "python",
   "name": "python3"
  },
  "language_info": {
   "codemirror_mode": {
    "name": "ipython",
    "version": 3
   },
   "file_extension": ".py",
   "mimetype": "text/x-python",
   "name": "python",
   "nbconvert_exporter": "python",
   "pygments_lexer": "ipython3",
   "version": "3.9.7"
  }
 },
 "nbformat": 4,
 "nbformat_minor": 5
}
