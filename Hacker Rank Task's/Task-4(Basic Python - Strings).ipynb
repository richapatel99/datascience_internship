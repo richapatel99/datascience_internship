{
 "cells": [
  {
   "cell_type": "code",
   "execution_count": 1,
   "id": "d421146c",
   "metadata": {},
   "outputs": [
    {
     "name": "stdout",
     "output_type": "stream",
     "text": [
      "i am studying data analytics for business\n",
      "i-am-studying-data-analytics-for-business\n"
     ]
    }
   ],
   "source": [
    "#Problem_1\n",
    "\n",
    "def split_and_join(line):\n",
    "    a = line.split(\" \")\n",
    "    b = \"-\".join(a)\n",
    "    return b\n",
    "\n",
    "if __name__ == '__main__':\n",
    "    line = input()\n",
    "    result = split_and_join(line)\n",
    "    print(result)"
   ]
  },
  {
   "cell_type": "code",
   "execution_count": 1,
   "id": "68cca53c",
   "metadata": {},
   "outputs": [
    {
     "name": "stdout",
     "output_type": "stream",
     "text": [
      "richa\n",
      "patel\n",
      "Hello richa patel! You just delved into python.\n"
     ]
    }
   ],
   "source": [
    "#Problem_2\n",
    "\n",
    "def print_full_name(first, last):\n",
    "    name = first + \" \" + last\n",
    "    print(\"Hello {}! You just delved into python.\".format(name))\n",
    "\n",
    "\n",
    "if __name__ == '__main__':\n",
    "    first_name = input()\n",
    "    last_name = input()\n",
    "    print_full_name(first_name, last_name)"
   ]
  },
  {
   "cell_type": "code",
   "execution_count": 1,
   "id": "955ac9c8",
   "metadata": {},
   "outputs": [
    {
     "name": "stdout",
     "output_type": "stream",
     "text": [
      "abcdeghi\n",
      "5 f\n",
      "abcdefhi\n"
     ]
    }
   ],
   "source": [
    "#Problem_3\n",
    "\n",
    "def mutate_string(string, position, character):\n",
    "    l = list(string)\n",
    "    l[position] = character\n",
    "    new_string = \"\".join(l)\n",
    "    return new_string\n",
    "\n",
    "if __name__ == '__main__':\n",
    "    s = input()\n",
    "    i, c = input().split()\n",
    "    s_new = mutate_string(s, int(i), c)\n",
    "    print(s_new)"
   ]
  },
  {
   "cell_type": "code",
   "execution_count": 68,
   "id": "4b13f277",
   "metadata": {},
   "outputs": [
    {
     "name": "stdout",
     "output_type": "stream",
     "text": [
      "abcdefghijabcdskjdhfyrabdkuiuiwjabcdkhhabcd\n",
      "ab\n",
      "5\n"
     ]
    }
   ],
   "source": [
    "#Problem_4\n",
    "\n",
    "def count_substring(string, sub_string):\n",
    "    count = 0\n",
    "    for i in range(0,len(string)):\n",
    "        if string[i:i + len(sub_string)]== sub_string:\n",
    "            count = count+1\n",
    "    return count\n",
    "\n",
    "if __name__ == '__main__':\n",
    "    string = input().strip()\n",
    "    sub_string = input().strip()\n",
    "    \n",
    "    count = count_substring(string, sub_string)\n",
    "    print(count)"
   ]
  },
  {
   "cell_type": "code",
   "execution_count": 50,
   "id": "4cee4c10",
   "metadata": {},
   "outputs": [
    {
     "name": "stdout",
     "output_type": "stream",
     "text": [
      "aQ2\n",
      "True\n",
      "True\n",
      "True\n",
      "True\n",
      "True\n"
     ]
    }
   ],
   "source": [
    "#Problem_5\n",
    "\n",
    "\n",
    "if __name__ == '__main__':\n",
    "    s = input()\n",
    "    \n",
    "alpnum = any(i.isalnum() for i in s)\n",
    "alpha = any(i.isalpha() for i in s)\n",
    "digit = any(i.isdigit() for i in s)\n",
    "lower = any(i.islower() for i in s)\n",
    "upper = any(i.isupper() for i in s)\n",
    "\n",
    "print(alpnum)\n",
    "print(alpha)\n",
    "print(digit)\n",
    "print(lower)\n",
    "print(upper)\n"
   ]
  },
  {
   "cell_type": "code",
   "execution_count": 67,
   "id": "a092d17b",
   "metadata": {},
   "outputs": [
    {
     "name": "stdout",
     "output_type": "stream",
     "text": [
      "4\n",
      "   H   \n",
      "  HHH  \n",
      " HHHHH \n",
      "HHHHHHH\n",
      "  HHHH            HHHH          \n",
      "  HHHH            HHHH          \n",
      "  HHHH            HHHH          \n",
      "  HHHH            HHHH          \n",
      "  HHHH            HHHH          \n",
      "  HHHHHHHHHHHHHHHHHHHH \n",
      "  HHHHHHHHHHHHHHHHHHHH \n",
      "  HHHH            HHHH          \n",
      "  HHHH            HHHH          \n",
      "  HHHH            HHHH          \n",
      "  HHHH            HHHH          \n",
      "  HHHH            HHHH          \n",
      "                HHHHHHH\n",
      "                 HHHHH \n",
      "                  HHH  \n",
      "                   H   \n",
      "\n"
     ]
    }
   ],
   "source": [
    "#Problem_6\n",
    "\n",
    "if __name__ == '__main__':\n",
    "    n = int(input())\n",
    "    c = ''\n",
    "    \n",
    "# Top cone\n",
    "for i in range(1,n*2,2):\n",
    "    c = c + (i * 'H').center(n * 2 - 1 , \" \") + '\\n'\n",
    "    \n",
    "# Top Square\n",
    "c1 = (n * 'H').center(n * 2 - 1 , \" \") + (n * 2 + 1) * \" \"\n",
    "for i in range(n + 1):\n",
    "    c = c + (2 * c1) + '\\n'\n",
    "\n",
    "# horizontal line\n",
    "c2 = (n * 5 * 'H').center(n * 6 - 1 , \" \")\n",
    "for i in range(0 , n , 2):\n",
    "    c = c + c2 + '\\n'\n",
    "\n",
    "# Bottom square\n",
    "c3 = (n * 'H').center(n * 2 - 1 , \" \") + (n * 2 + 1) * \" \"\n",
    "for i in range(n + 1):\n",
    "    c = c + (2 * c3) + '\\n'\n",
    "\n",
    "# Bottom cone\n",
    "for i in range(n * 2 - 1 , 0 , -2):\n",
    "    c = c + (n * 4) * ' ' + (i * 'H').center(n * 2 - 1) + '\\n'\n",
    "    \n",
    "    \n",
    "print(c)"
   ]
  },
  {
   "cell_type": "code",
   "execution_count": 74,
   "id": "cc53e514",
   "metadata": {},
   "outputs": [
    {
     "name": "stdout",
     "output_type": "stream",
     "text": [
      "errtyyuuioppllkjhhggfdsazxxcvbnmmkklppoiuyt\n",
      "2\n",
      "er\n",
      "rt\n",
      "yy\n",
      "uu\n",
      "io\n",
      "pp\n",
      "ll\n",
      "kj\n",
      "hh\n",
      "gg\n",
      "fd\n",
      "sa\n",
      "zx\n",
      "xc\n",
      "vb\n",
      "nm\n",
      "mk\n",
      "kl\n",
      "pp\n",
      "oi\n",
      "uy\n",
      "t\n"
     ]
    }
   ],
   "source": [
    "#Problem_7\n",
    "\n",
    "import textwrap\n",
    "\n",
    "def wrap(string, max_width):\n",
    "    return '\\n'.join(textwrap.wrap(string, max_width))\n",
    "    return\n",
    "\n",
    "if __name__ == '__main__':\n",
    "    string = input()\n",
    "    max_width = int(input())\n",
    "    result = wrap(string, max_width)\n",
    "    print(result)"
   ]
  },
  {
   "cell_type": "code",
   "execution_count": 84,
   "id": "e43d091c",
   "metadata": {},
   "outputs": [
    {
     "name": "stdout",
     "output_type": "stream",
     "text": [
      "9 27\n",
      "------------.|.------------\n",
      "---------.|..|..|.---------\n",
      "------.|..|..|..|..|.------\n",
      "---.|..|..|..|..|..|..|.---\n",
      "----------WELCOME----------\n",
      "---.|..|..|..|..|..|..|.---\n",
      "------.|..|..|..|..|.------\n",
      "---------.|..|..|.---------\n",
      "------------.|.------------\n"
     ]
    }
   ],
   "source": [
    "#Problem_8\n",
    "\n",
    "v, h = map(int, input().strip().split())\n",
    "pattern = 1\n",
    "full_string = str()\n",
    "for i in range(1, v+1):\n",
    "    if i == (v//2)+1:\n",
    "        print(\"WELCOME\".center(h, \"-\"))\n",
    "        full_string = full_string + \"WELCOME\".center(h, \"-\") + \"\\v\"\n",
    "        pattern = pattern - 2\n",
    "    elif i < (v//2)+1:\n",
    "        print((\".|.\"*pattern).center(h, \"-\"))\n",
    "        full_string = full_string + (\".|.\"*pattern).center(h, \"-\") + \"\\v\"\n",
    "        pattern = pattern + 2\n",
    "    elif i > (v//2)+1:\n",
    "        print((\".|.\"*pattern).center(h, \"-\"))\n",
    "        full_string = full_string + (\".|.\"*pattern).center(h, \"-\") + \"\\v\"\n",
    "        pattern= pattern - 2\n",
    "\n"
   ]
  },
  {
   "cell_type": "code",
   "execution_count": 85,
   "id": "bfd59c14",
   "metadata": {},
   "outputs": [
    {
     "name": "stdout",
     "output_type": "stream",
     "text": [
      "17\n",
      "    1     1     1     1\n",
      "    2     2     2    10\n",
      "    3     3     3    11\n",
      "    4     4     4   100\n",
      "    5     5     5   101\n",
      "    6     6     6   110\n",
      "    7     7     7   111\n",
      "    8    10     8  1000\n",
      "    9    11     9  1001\n",
      "   10    12     A  1010\n",
      "   11    13     B  1011\n",
      "   12    14     C  1100\n",
      "   13    15     D  1101\n",
      "   14    16     E  1110\n",
      "   15    17     F  1111\n",
      "   16    20    10 10000\n",
      "   17    21    11 10001\n"
     ]
    }
   ],
   "source": [
    "#Problem_9\n",
    "\n",
    "def print_formatted(n):\n",
    "    width = len(format(n, 'b'))\n",
    "    \n",
    "    for i in range(1, n + 1, 1):\n",
    "        dec = str(i).rjust(width,' ')\n",
    "        oct = format(i, \"o\").rjust(width, ' ')\n",
    "        hex = format(i, \"X\").rjust(width, ' ')\n",
    "        bin = format(i, 'b'.format(width)).rjust(width, ' ')\n",
    "        \n",
    "        print(f\"{dec} {oct} {hex} {bin}\")\n",
    "\n",
    "if __name__ == '__main__':\n",
    "    n = int(input())\n",
    "    print_formatted(n)"
   ]
  },
  {
   "cell_type": "code",
   "execution_count": 115,
   "id": "117fe830",
   "metadata": {
    "scrolled": true
   },
   "outputs": [
    {
     "name": "stdout",
     "output_type": "stream",
     "text": [
      "6\n",
      "----------f----------\n",
      "--------f-e-f--------\n",
      "------f-e-d-e-f------\n",
      "----f-e-d-c-d-e-f----\n",
      "--f-e-d-c-b-c-d-e-f--\n",
      "f-e-d-c-b-a-b-c-d-e-f\n",
      "--f-e-d-c-b-c-d-e-f--\n",
      "----f-e-d-c-d-e-f----\n",
      "------f-e-d-e-f------\n",
      "--------f-e-f--------\n",
      "----------f----------\n"
     ]
    }
   ],
   "source": [
    "#Problem_10\n",
    "\n",
    "# n = int(input())\n",
    "# print_rangoli(n)\n",
    "\n",
    "def print_rangoli(size):\n",
    "    import string\n",
    "    \n",
    "    S = string.ascii_lowercase\n",
    "    L = []\n",
    "    \n",
    "    for i in range(n):\n",
    "        s = '-'.join(S[i:n])\n",
    "        L.append((s[::-1]+s[1:]).center(4*n-3,'-'))\n",
    "        \n",
    "    c =  '\\n'.join(L[:0:-1]+L)\n",
    "    print(c)\n",
    "    \n",
    "if __name__ == '__main__':\n",
    "    n = int(input())\n",
    "    print_rangoli(n)"
   ]
  },
  {
   "cell_type": "code",
   "execution_count": null,
   "id": "013cc8a9",
   "metadata": {},
   "outputs": [],
   "source": [
    "#Problem_11\n",
    "\n",
    "#!/bin/python3\n",
    "\n",
    "import math\n",
    "import os\n",
    "import random\n",
    "import re\n",
    "import sys\n",
    "\n",
    "# Complete the solve function below.\n",
    "def solve(s):\n",
    "    return' '.join(word.capitalize() for word in s.split(' '))\n",
    "\n",
    "if __name__ == '__main__':\n",
    "    fptr = open(os.environ['OUTPUT_PATH'], 'w')\n",
    "\n",
    "    s = input()\n",
    "\n",
    "    result = solve(s)\n",
    "\n",
    "    fptr.write(result + '\\n')\n",
    "\n",
    "    fptr.close()\n"
   ]
  },
  {
   "cell_type": "code",
   "execution_count": 25,
   "id": "8dcc4074",
   "metadata": {},
   "outputs": [
    {
     "name": "stdout",
     "output_type": "stream",
     "text": [
      "BANANA\n",
      "Stuart 12\n"
     ]
    }
   ],
   "source": [
    "#Problem_12\n",
    "\n",
    "def minion_game(string):\n",
    "    vowels = 'AEIOU'\n",
    "    K_score = 0\n",
    "    S_score = 0\n",
    "    n = len(string)\n",
    "#     print(n)\n",
    "\n",
    "    for i in range(n):\n",
    "#         print(\"iiiii--->\",i)\n",
    "        if string[i] in vowels:\n",
    "            K_score = K_score + n -i\n",
    "#             print(\"K_score----->\",K_score)\n",
    "        else:\n",
    "            S_score = S_score + n -i\n",
    "#             print(\"s_score----->\",S_score)\n",
    "    if K_score > S_score:\n",
    "        print(\"Kevin\", K_score)\n",
    "    elif S_score > K_score:\n",
    "        print(\"Stuart\", S_score)\n",
    "    else:\n",
    "        print(\"Draw\")\n",
    "    \n",
    "\n",
    "if __name__ == '__main__':\n",
    "    s = input()\n",
    "    minion_game(s)"
   ]
  },
  {
   "cell_type": "code",
   "execution_count": 34,
   "id": "157d310c",
   "metadata": {},
   "outputs": [
    {
     "name": "stdout",
     "output_type": "stream",
     "text": [
      "AABCAAADA\n",
      "3\n",
      "AB\n",
      "CA\n",
      "AD\n"
     ]
    }
   ],
   "source": [
    "#Problem_13\n",
    "\n",
    "def merge_the_tools(string, k):\n",
    "    s = len(string)\n",
    "    c = s // k\n",
    "\n",
    "    for i in range(c):\n",
    "        \n",
    "        sub_string = string[i*k : (i+1)*k]\n",
    "#         a = set(sub_string)\n",
    "#         print(sub_string)\n",
    "#         print(\"aaaa---\",a)\n",
    "        \n",
    "        new_sub_string = ''.join(set(sub_string))\n",
    "        print(new_sub_string)\n",
    "        \n",
    "        \n",
    "if __name__ == '__main__':\n",
    "    string, k = input(), int(input())\n",
    "    merge_the_tools(string, k)"
   ]
  },
  {
   "cell_type": "code",
   "execution_count": null,
   "id": "75be0cc2",
   "metadata": {},
   "outputs": [],
   "source": []
  }
 ],
 "metadata": {
  "kernelspec": {
   "display_name": "Python 3 (ipykernel)",
   "language": "python",
   "name": "python3"
  },
  "language_info": {
   "codemirror_mode": {
    "name": "ipython",
    "version": 3
   },
   "file_extension": ".py",
   "mimetype": "text/x-python",
   "name": "python",
   "nbconvert_exporter": "python",
   "pygments_lexer": "ipython3",
   "version": "3.9.7"
  }
 },
 "nbformat": 4,
 "nbformat_minor": 5
}
