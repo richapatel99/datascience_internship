{
 "cells": [
  {
   "cell_type": "code",
   "execution_count": 1,
   "id": "b0a03e4f",
   "metadata": {},
   "outputs": [],
   "source": [
    "import numpy as np\n",
    "import pandas as pd\n",
    "import matplotlib.pyplot as plt\n",
    "import re\n",
    "import seaborn as sns"
   ]
  },
  {
   "cell_type": "code",
   "execution_count": 2,
   "id": "db17d877",
   "metadata": {},
   "outputs": [],
   "source": [
    "df = pd.read_csv('laptop_details.csv')"
   ]
  },
  {
   "cell_type": "code",
   "execution_count": 3,
   "id": "826a3a84",
   "metadata": {},
   "outputs": [
    {
     "data": {
      "text/plain": [
       "(720, 4)"
      ]
     },
     "execution_count": 3,
     "metadata": {},
     "output_type": "execute_result"
    }
   ],
   "source": [
    "df.shape"
   ]
  },
  {
   "cell_type": "code",
   "execution_count": 4,
   "id": "b9c006d4",
   "metadata": {},
   "outputs": [
    {
     "data": {
      "text/html": [
       "<div>\n",
       "<style scoped>\n",
       "    .dataframe tbody tr th:only-of-type {\n",
       "        vertical-align: middle;\n",
       "    }\n",
       "\n",
       "    .dataframe tbody tr th {\n",
       "        vertical-align: top;\n",
       "    }\n",
       "\n",
       "    .dataframe thead th {\n",
       "        text-align: right;\n",
       "    }\n",
       "</style>\n",
       "<table border=\"1\" class=\"dataframe\">\n",
       "  <thead>\n",
       "    <tr style=\"text-align: right;\">\n",
       "      <th></th>\n",
       "      <th>Product</th>\n",
       "      <th>Rating</th>\n",
       "      <th>MRP</th>\n",
       "      <th>Feature</th>\n",
       "    </tr>\n",
       "  </thead>\n",
       "  <tbody>\n",
       "    <tr>\n",
       "      <th>0</th>\n",
       "      <td>Lenovo IdeaPad 3 Core i3 11th Gen - (8 GB/256 ...</td>\n",
       "      <td>4.2</td>\n",
       "      <td>₹36,990</td>\n",
       "      <td>Intel Core i3 Processor (11th Gen)8 GB DDR4 RA...</td>\n",
       "    </tr>\n",
       "    <tr>\n",
       "      <th>1</th>\n",
       "      <td>Lenovo IdeaPad 3 Core i3 11th Gen - (8 GB/512 ...</td>\n",
       "      <td>4.2</td>\n",
       "      <td>₹39,990</td>\n",
       "      <td>Intel Core i3 Processor (11th Gen)8 GB DDR4 RA...</td>\n",
       "    </tr>\n",
       "    <tr>\n",
       "      <th>2</th>\n",
       "      <td>ASUS VivoBook 15 (2022) Core i3 10th Gen - (8 ...</td>\n",
       "      <td>4.3</td>\n",
       "      <td>₹32,990</td>\n",
       "      <td>Intel Core i3 Processor (10th Gen)8 GB DDR4 RA...</td>\n",
       "    </tr>\n",
       "    <tr>\n",
       "      <th>3</th>\n",
       "      <td>HP Pavilion Ryzen 5 Hexa Core AMD R5-5600H - (...</td>\n",
       "      <td>4.4</td>\n",
       "      <td>₹49,990</td>\n",
       "      <td>AMD Ryzen 5 Hexa Core Processor8 GB DDR4 RAM64...</td>\n",
       "    </tr>\n",
       "    <tr>\n",
       "      <th>4</th>\n",
       "      <td>ASUS TUF Gaming F15 Core i5 10th Gen - (8 GB/5...</td>\n",
       "      <td>4.4</td>\n",
       "      <td>₹49,990</td>\n",
       "      <td>Intel Core i5 Processor (10th Gen)8 GB DDR4 RA...</td>\n",
       "    </tr>\n",
       "  </tbody>\n",
       "</table>\n",
       "</div>"
      ],
      "text/plain": [
       "                                             Product  Rating      MRP  \\\n",
       "0  Lenovo IdeaPad 3 Core i3 11th Gen - (8 GB/256 ...     4.2  ₹36,990   \n",
       "1  Lenovo IdeaPad 3 Core i3 11th Gen - (8 GB/512 ...     4.2  ₹39,990   \n",
       "2  ASUS VivoBook 15 (2022) Core i3 10th Gen - (8 ...     4.3  ₹32,990   \n",
       "3  HP Pavilion Ryzen 5 Hexa Core AMD R5-5600H - (...     4.4  ₹49,990   \n",
       "4  ASUS TUF Gaming F15 Core i5 10th Gen - (8 GB/5...     4.4  ₹49,990   \n",
       "\n",
       "                                             Feature  \n",
       "0  Intel Core i3 Processor (11th Gen)8 GB DDR4 RA...  \n",
       "1  Intel Core i3 Processor (11th Gen)8 GB DDR4 RA...  \n",
       "2  Intel Core i3 Processor (10th Gen)8 GB DDR4 RA...  \n",
       "3  AMD Ryzen 5 Hexa Core Processor8 GB DDR4 RAM64...  \n",
       "4  Intel Core i5 Processor (10th Gen)8 GB DDR4 RA...  "
      ]
     },
     "execution_count": 4,
     "metadata": {},
     "output_type": "execute_result"
    }
   ],
   "source": [
    "df.head()"
   ]
  },
  {
   "cell_type": "code",
   "execution_count": 5,
   "id": "a45e154f",
   "metadata": {
    "scrolled": true
   },
   "outputs": [
    {
     "name": "stdout",
     "output_type": "stream",
     "text": [
      "<class 'pandas.core.frame.DataFrame'>\n",
      "RangeIndex: 720 entries, 0 to 719\n",
      "Data columns (total 4 columns):\n",
      " #   Column   Non-Null Count  Dtype  \n",
      "---  ------   --------------  -----  \n",
      " 0   Product  720 non-null    object \n",
      " 1   Rating   581 non-null    float64\n",
      " 2   MRP      720 non-null    object \n",
      " 3   Feature  720 non-null    object \n",
      "dtypes: float64(1), object(3)\n",
      "memory usage: 22.6+ KB\n"
     ]
    }
   ],
   "source": [
    "df.info()"
   ]
  },
  {
   "cell_type": "markdown",
   "id": "3c24c927",
   "metadata": {},
   "source": [
    "### EDA"
   ]
  },
  {
   "cell_type": "code",
   "execution_count": 6,
   "id": "18db7d5c",
   "metadata": {},
   "outputs": [
    {
     "data": {
      "text/plain": [
       "Index(['Product', 'Rating', 'MRP', 'Feature'], dtype='object')"
      ]
     },
     "execution_count": 6,
     "metadata": {},
     "output_type": "execute_result"
    }
   ],
   "source": [
    "df.columns"
   ]
  },
  {
   "cell_type": "code",
   "execution_count": 7,
   "id": "9f72d4d9",
   "metadata": {},
   "outputs": [
    {
     "data": {
      "text/plain": [
       "Product      0\n",
       "Rating     139\n",
       "MRP          0\n",
       "Feature      0\n",
       "dtype: int64"
      ]
     },
     "execution_count": 7,
     "metadata": {},
     "output_type": "execute_result"
    }
   ],
   "source": [
    "df.isnull().sum()"
   ]
  },
  {
   "cell_type": "code",
   "execution_count": 8,
   "id": "5fa34ce9",
   "metadata": {},
   "outputs": [
    {
     "data": {
      "text/plain": [
       "0      4.2\n",
       "1      4.2\n",
       "2      4.3\n",
       "3      4.4\n",
       "4      4.4\n",
       "      ... \n",
       "715    4.0\n",
       "716    4.5\n",
       "717    4.3\n",
       "718    3.0\n",
       "719    4.2\n",
       "Name: Rating, Length: 720, dtype: float64"
      ]
     },
     "execution_count": 8,
     "metadata": {},
     "output_type": "execute_result"
    }
   ],
   "source": [
    "df['Rating']=df['Rating'].fillna(df['Rating'].median())\n",
    "df['Rating']"
   ]
  },
  {
   "cell_type": "code",
   "execution_count": 9,
   "id": "bd941353",
   "metadata": {},
   "outputs": [
    {
     "data": {
      "text/plain": [
       "Product    0\n",
       "Rating     0\n",
       "MRP        0\n",
       "Feature    0\n",
       "dtype: int64"
      ]
     },
     "execution_count": 9,
     "metadata": {},
     "output_type": "execute_result"
    }
   ],
   "source": [
    "df.isnull().sum()"
   ]
  },
  {
   "cell_type": "code",
   "execution_count": 10,
   "id": "66fe48ad",
   "metadata": {},
   "outputs": [],
   "source": [
    "def clean_df(df):\n",
    "    # Convert all string columns to lowercase\n",
    "    df = df.apply(lambda x: x.str.lower() if x.dtype == \"object\" else x)\n",
    "    \n",
    "    # Remove special characters from all string columns\n",
    "    df = df.applymap(lambda x: re.sub(r'[^\\w\\s]', '', x) if isinstance(x, str) else x)\n",
    "    \n",
    "    return df\n"
   ]
  },
  {
   "cell_type": "code",
   "execution_count": 11,
   "id": "ffc0a52a",
   "metadata": {},
   "outputs": [],
   "source": [
    "df = clean_df(df)"
   ]
  },
  {
   "cell_type": "code",
   "execution_count": 12,
   "id": "50391801",
   "metadata": {},
   "outputs": [
    {
     "data": {
      "text/html": [
       "<div>\n",
       "<style scoped>\n",
       "    .dataframe tbody tr th:only-of-type {\n",
       "        vertical-align: middle;\n",
       "    }\n",
       "\n",
       "    .dataframe tbody tr th {\n",
       "        vertical-align: top;\n",
       "    }\n",
       "\n",
       "    .dataframe thead th {\n",
       "        text-align: right;\n",
       "    }\n",
       "</style>\n",
       "<table border=\"1\" class=\"dataframe\">\n",
       "  <thead>\n",
       "    <tr style=\"text-align: right;\">\n",
       "      <th></th>\n",
       "      <th>Product</th>\n",
       "      <th>Rating</th>\n",
       "      <th>MRP</th>\n",
       "      <th>Feature</th>\n",
       "    </tr>\n",
       "  </thead>\n",
       "  <tbody>\n",
       "    <tr>\n",
       "      <th>0</th>\n",
       "      <td>lenovo ideapad 3 core i3 11th gen  8 gb256 gb ...</td>\n",
       "      <td>4.2</td>\n",
       "      <td>36990</td>\n",
       "      <td>intel core i3 processor 11th gen8 gb ddr4 ram6...</td>\n",
       "    </tr>\n",
       "    <tr>\n",
       "      <th>1</th>\n",
       "      <td>lenovo ideapad 3 core i3 11th gen  8 gb512 gb ...</td>\n",
       "      <td>4.2</td>\n",
       "      <td>39990</td>\n",
       "      <td>intel core i3 processor 11th gen8 gb ddr4 ram6...</td>\n",
       "    </tr>\n",
       "    <tr>\n",
       "      <th>2</th>\n",
       "      <td>asus vivobook 15 2022 core i3 10th gen  8 gb51...</td>\n",
       "      <td>4.3</td>\n",
       "      <td>32990</td>\n",
       "      <td>intel core i3 processor 10th gen8 gb ddr4 ram6...</td>\n",
       "    </tr>\n",
       "    <tr>\n",
       "      <th>3</th>\n",
       "      <td>hp pavilion ryzen 5 hexa core amd r55600h  8 g...</td>\n",
       "      <td>4.4</td>\n",
       "      <td>49990</td>\n",
       "      <td>amd ryzen 5 hexa core processor8 gb ddr4 ram64...</td>\n",
       "    </tr>\n",
       "    <tr>\n",
       "      <th>4</th>\n",
       "      <td>asus tuf gaming f15 core i5 10th gen  8 gb512 ...</td>\n",
       "      <td>4.4</td>\n",
       "      <td>49990</td>\n",
       "      <td>intel core i5 processor 10th gen8 gb ddr4 ramw...</td>\n",
       "    </tr>\n",
       "  </tbody>\n",
       "</table>\n",
       "</div>"
      ],
      "text/plain": [
       "                                             Product  Rating    MRP  \\\n",
       "0  lenovo ideapad 3 core i3 11th gen  8 gb256 gb ...     4.2  36990   \n",
       "1  lenovo ideapad 3 core i3 11th gen  8 gb512 gb ...     4.2  39990   \n",
       "2  asus vivobook 15 2022 core i3 10th gen  8 gb51...     4.3  32990   \n",
       "3  hp pavilion ryzen 5 hexa core amd r55600h  8 g...     4.4  49990   \n",
       "4  asus tuf gaming f15 core i5 10th gen  8 gb512 ...     4.4  49990   \n",
       "\n",
       "                                             Feature  \n",
       "0  intel core i3 processor 11th gen8 gb ddr4 ram6...  \n",
       "1  intel core i3 processor 11th gen8 gb ddr4 ram6...  \n",
       "2  intel core i3 processor 10th gen8 gb ddr4 ram6...  \n",
       "3  amd ryzen 5 hexa core processor8 gb ddr4 ram64...  \n",
       "4  intel core i5 processor 10th gen8 gb ddr4 ramw...  "
      ]
     },
     "execution_count": 12,
     "metadata": {},
     "output_type": "execute_result"
    }
   ],
   "source": [
    "df.head()"
   ]
  },
  {
   "cell_type": "code",
   "execution_count": 13,
   "id": "7b07b829",
   "metadata": {},
   "outputs": [
    {
     "data": {
      "text/plain": [
       "0      intel core i3 processor 11th gen8 gb ddr4 ram6...\n",
       "1      intel core i3 processor 11th gen8 gb ddr4 ram6...\n",
       "2      intel core i3 processor 10th gen8 gb ddr4 ram6...\n",
       "3      amd ryzen 5 hexa core processor8 gb ddr4 ram64...\n",
       "4      intel core i5 processor 10th gen8 gb ddr4 ramw...\n",
       "                             ...                        \n",
       "715    intel celeron dual core processor4 gb lpddr4 r...\n",
       "716    amd ryzen 7 octa core processor8 gb ddr4 ram64...\n",
       "717    amd ryzen 9 octa core processor16 gb ddr5 ram6...\n",
       "718    intel core i7 processor 12th gen16 gb lpddr5 r...\n",
       "719    intel core i5 processor 10th gen8 gb ddr4 ram6...\n",
       "Name: Feature, Length: 720, dtype: object"
      ]
     },
     "execution_count": 13,
     "metadata": {},
     "output_type": "execute_result"
    }
   ],
   "source": [
    "df['Feature']"
   ]
  },
  {
   "cell_type": "code",
   "execution_count": 14,
   "id": "65252326",
   "metadata": {},
   "outputs": [
    {
     "data": {
      "text/plain": [
       "Product    0\n",
       "Rating     0\n",
       "MRP        0\n",
       "Feature    0\n",
       "dtype: int64"
      ]
     },
     "execution_count": 14,
     "metadata": {},
     "output_type": "execute_result"
    }
   ],
   "source": [
    "df.isnull().sum()"
   ]
  },
  {
   "cell_type": "code",
   "execution_count": 15,
   "id": "cc09f2ab",
   "metadata": {
    "scrolled": true
   },
   "outputs": [
    {
     "data": {
      "text/html": [
       "<div>\n",
       "<style scoped>\n",
       "    .dataframe tbody tr th:only-of-type {\n",
       "        vertical-align: middle;\n",
       "    }\n",
       "\n",
       "    .dataframe tbody tr th {\n",
       "        vertical-align: top;\n",
       "    }\n",
       "\n",
       "    .dataframe thead th {\n",
       "        text-align: right;\n",
       "    }\n",
       "</style>\n",
       "<table border=\"1\" class=\"dataframe\">\n",
       "  <thead>\n",
       "    <tr style=\"text-align: right;\">\n",
       "      <th></th>\n",
       "      <th>Product</th>\n",
       "      <th>Rating</th>\n",
       "      <th>MRP</th>\n",
       "      <th>Feature</th>\n",
       "      <th>Ram_size</th>\n",
       "      <th>Ram_type</th>\n",
       "      <th>Operating system</th>\n",
       "      <th>Disk_type</th>\n",
       "      <th>Disk_size</th>\n",
       "    </tr>\n",
       "  </thead>\n",
       "  <tbody>\n",
       "    <tr>\n",
       "      <th>0</th>\n",
       "      <td>lenovo ideapad 3 core i3 11th gen  8 gb256 gb ...</td>\n",
       "      <td>4.2</td>\n",
       "      <td>36990</td>\n",
       "      <td>intel core i3 processor 11th gen8 gb ddr4 ram6...</td>\n",
       "      <td>8</td>\n",
       "      <td>ddr4</td>\n",
       "      <td>windows 11 operating system</td>\n",
       "      <td>ssd</td>\n",
       "      <td>8 gb</td>\n",
       "    </tr>\n",
       "    <tr>\n",
       "      <th>1</th>\n",
       "      <td>lenovo ideapad 3 core i3 11th gen  8 gb512 gb ...</td>\n",
       "      <td>4.2</td>\n",
       "      <td>39990</td>\n",
       "      <td>intel core i3 processor 11th gen8 gb ddr4 ram6...</td>\n",
       "      <td>8</td>\n",
       "      <td>ddr4</td>\n",
       "      <td>windows 11 operating system</td>\n",
       "      <td>ssd</td>\n",
       "      <td>8 gb</td>\n",
       "    </tr>\n",
       "    <tr>\n",
       "      <th>2</th>\n",
       "      <td>asus vivobook 15 2022 core i3 10th gen  8 gb51...</td>\n",
       "      <td>4.3</td>\n",
       "      <td>32990</td>\n",
       "      <td>intel core i3 processor 10th gen8 gb ddr4 ram6...</td>\n",
       "      <td>8</td>\n",
       "      <td>ddr4</td>\n",
       "      <td>windows 11 operating system</td>\n",
       "      <td>ssd</td>\n",
       "      <td>8 gb</td>\n",
       "    </tr>\n",
       "    <tr>\n",
       "      <th>3</th>\n",
       "      <td>hp pavilion ryzen 5 hexa core amd r55600h  8 g...</td>\n",
       "      <td>4.4</td>\n",
       "      <td>49990</td>\n",
       "      <td>amd ryzen 5 hexa core processor8 gb ddr4 ram64...</td>\n",
       "      <td>8</td>\n",
       "      <td>ddr4</td>\n",
       "      <td>windows 10 operating system</td>\n",
       "      <td>ssd</td>\n",
       "      <td>8 gb</td>\n",
       "    </tr>\n",
       "    <tr>\n",
       "      <th>4</th>\n",
       "      <td>asus tuf gaming f15 core i5 10th gen  8 gb512 ...</td>\n",
       "      <td>4.4</td>\n",
       "      <td>49990</td>\n",
       "      <td>intel core i5 processor 10th gen8 gb ddr4 ramw...</td>\n",
       "      <td>8</td>\n",
       "      <td>ddr4</td>\n",
       "      <td>windows 11 operating system</td>\n",
       "      <td>ssd</td>\n",
       "      <td>8 gb</td>\n",
       "    </tr>\n",
       "  </tbody>\n",
       "</table>\n",
       "</div>"
      ],
      "text/plain": [
       "                                             Product  Rating    MRP  \\\n",
       "0  lenovo ideapad 3 core i3 11th gen  8 gb256 gb ...     4.2  36990   \n",
       "1  lenovo ideapad 3 core i3 11th gen  8 gb512 gb ...     4.2  39990   \n",
       "2  asus vivobook 15 2022 core i3 10th gen  8 gb51...     4.3  32990   \n",
       "3  hp pavilion ryzen 5 hexa core amd r55600h  8 g...     4.4  49990   \n",
       "4  asus tuf gaming f15 core i5 10th gen  8 gb512 ...     4.4  49990   \n",
       "\n",
       "                                             Feature Ram_size Ram_type  \\\n",
       "0  intel core i3 processor 11th gen8 gb ddr4 ram6...        8     ddr4   \n",
       "1  intel core i3 processor 11th gen8 gb ddr4 ram6...        8     ddr4   \n",
       "2  intel core i3 processor 10th gen8 gb ddr4 ram6...        8     ddr4   \n",
       "3  amd ryzen 5 hexa core processor8 gb ddr4 ram64...        8     ddr4   \n",
       "4  intel core i5 processor 10th gen8 gb ddr4 ramw...        8     ddr4   \n",
       "\n",
       "              Operating system Disk_type Disk_size  \n",
       "0  windows 11 operating system       ssd      8 gb  \n",
       "1  windows 11 operating system       ssd      8 gb  \n",
       "2  windows 11 operating system       ssd      8 gb  \n",
       "3  windows 10 operating system       ssd      8 gb  \n",
       "4  windows 11 operating system       ssd      8 gb  "
      ]
     },
     "execution_count": 15,
     "metadata": {},
     "output_type": "execute_result"
    }
   ],
   "source": [
    "# extract RAM size and type\n",
    "df['Ram_size'] = df['Feature'].str.extract(r'(\\d+) gb')\n",
    "df['Ram_type'] = df['Feature'].str.extract(r'(\\bddr\\d\\b|\\blpddr\\d\\b|\\bddr\\dL\\b)')\n",
    "df['Operating system'] = df['Feature'].str.extract(r'(windows\\s\\d{1,2}\\s\\w+\\ssystem|\\bmacos\\b|\\blinux\\b)')\n",
    "# df['Disk_type'] = df['Feature'].str.extract(r'(\\bssd\\d*|\\bhdd\\d*)')\n",
    "df['Disk_type'] = df['Feature'].str.extract(r'(\\bssd.{0,0}|\\bhdd.{0,0})')\n",
    "df['Disk_size'] = df['Feature'].str.extract(r'(\\d+\\s*[t|g]b)')\n",
    "\n",
    "df.head()"
   ]
  },
  {
   "cell_type": "code",
   "execution_count": 16,
   "id": "f465bd4c",
   "metadata": {},
   "outputs": [
    {
     "data": {
      "text/plain": [
       "Product              0\n",
       "Rating               0\n",
       "MRP                  0\n",
       "Feature              0\n",
       "Ram_size             0\n",
       "Ram_type            49\n",
       "Operating system    30\n",
       "Disk_type           10\n",
       "Disk_size            0\n",
       "dtype: int64"
      ]
     },
     "execution_count": 16,
     "metadata": {},
     "output_type": "execute_result"
    }
   ],
   "source": [
    "df.isnull().sum()"
   ]
  },
  {
   "cell_type": "code",
   "execution_count": 17,
   "id": "b523f5db",
   "metadata": {
    "scrolled": true
   },
   "outputs": [],
   "source": [
    "df.dropna(subset=['Ram_type'], inplace=True)\n",
    "df.dropna(subset=['Operating system'], inplace=True)\n",
    "df.dropna(subset=['Disk_type'], inplace=True)\n"
   ]
  },
  {
   "cell_type": "code",
   "execution_count": 18,
   "id": "71650b19",
   "metadata": {},
   "outputs": [
    {
     "data": {
      "text/plain": [
       "Product             0\n",
       "Rating              0\n",
       "MRP                 0\n",
       "Feature             0\n",
       "Ram_size            0\n",
       "Ram_type            0\n",
       "Operating system    0\n",
       "Disk_type           0\n",
       "Disk_size           0\n",
       "dtype: int64"
      ]
     },
     "execution_count": 18,
     "metadata": {},
     "output_type": "execute_result"
    }
   ],
   "source": [
    "df.isnull().sum()"
   ]
  },
  {
   "cell_type": "code",
   "execution_count": 19,
   "id": "9edeeda4",
   "metadata": {
    "scrolled": true
   },
   "outputs": [
    {
     "data": {
      "text/plain": [
       "'intel core i3 processor 11th gen8 gb ddr4 ram64 bit windows 11 operating system256 gb ssd3556 cm 14 inch displayoffice home and student 20212 year onsitewarranty'"
      ]
     },
     "execution_count": 19,
     "metadata": {},
     "output_type": "execute_result"
    }
   ],
   "source": [
    "df['Feature'][0]"
   ]
  },
  {
   "cell_type": "code",
   "execution_count": 20,
   "id": "dc9f9e96",
   "metadata": {},
   "outputs": [
    {
     "data": {
      "text/plain": [
       "array(['ssd', 'hdd'], dtype=object)"
      ]
     },
     "execution_count": 20,
     "metadata": {},
     "output_type": "execute_result"
    }
   ],
   "source": [
    "df['Disk_type'].unique()"
   ]
  },
  {
   "cell_type": "code",
   "execution_count": 21,
   "id": "c865932d",
   "metadata": {},
   "outputs": [],
   "source": [
    "df.drop('Feature', axis=1, inplace=True)"
   ]
  },
  {
   "cell_type": "code",
   "execution_count": 22,
   "id": "0e8525da",
   "metadata": {
    "scrolled": false
   },
   "outputs": [
    {
     "data": {
      "text/html": [
       "<div>\n",
       "<style scoped>\n",
       "    .dataframe tbody tr th:only-of-type {\n",
       "        vertical-align: middle;\n",
       "    }\n",
       "\n",
       "    .dataframe tbody tr th {\n",
       "        vertical-align: top;\n",
       "    }\n",
       "\n",
       "    .dataframe thead th {\n",
       "        text-align: right;\n",
       "    }\n",
       "</style>\n",
       "<table border=\"1\" class=\"dataframe\">\n",
       "  <thead>\n",
       "    <tr style=\"text-align: right;\">\n",
       "      <th></th>\n",
       "      <th>Product</th>\n",
       "      <th>Rating</th>\n",
       "      <th>MRP</th>\n",
       "      <th>Ram_size</th>\n",
       "      <th>Ram_type</th>\n",
       "      <th>Operating system</th>\n",
       "      <th>Disk_type</th>\n",
       "      <th>Disk_size</th>\n",
       "    </tr>\n",
       "  </thead>\n",
       "  <tbody>\n",
       "    <tr>\n",
       "      <th>0</th>\n",
       "      <td>lenovo ideapad 3 core i3 11th gen  8 gb256 gb ...</td>\n",
       "      <td>4.2</td>\n",
       "      <td>36990</td>\n",
       "      <td>8</td>\n",
       "      <td>ddr4</td>\n",
       "      <td>windows 11 operating system</td>\n",
       "      <td>ssd</td>\n",
       "      <td>8 gb</td>\n",
       "    </tr>\n",
       "    <tr>\n",
       "      <th>1</th>\n",
       "      <td>lenovo ideapad 3 core i3 11th gen  8 gb512 gb ...</td>\n",
       "      <td>4.2</td>\n",
       "      <td>39990</td>\n",
       "      <td>8</td>\n",
       "      <td>ddr4</td>\n",
       "      <td>windows 11 operating system</td>\n",
       "      <td>ssd</td>\n",
       "      <td>8 gb</td>\n",
       "    </tr>\n",
       "    <tr>\n",
       "      <th>2</th>\n",
       "      <td>asus vivobook 15 2022 core i3 10th gen  8 gb51...</td>\n",
       "      <td>4.3</td>\n",
       "      <td>32990</td>\n",
       "      <td>8</td>\n",
       "      <td>ddr4</td>\n",
       "      <td>windows 11 operating system</td>\n",
       "      <td>ssd</td>\n",
       "      <td>8 gb</td>\n",
       "    </tr>\n",
       "    <tr>\n",
       "      <th>3</th>\n",
       "      <td>hp pavilion ryzen 5 hexa core amd r55600h  8 g...</td>\n",
       "      <td>4.4</td>\n",
       "      <td>49990</td>\n",
       "      <td>8</td>\n",
       "      <td>ddr4</td>\n",
       "      <td>windows 10 operating system</td>\n",
       "      <td>ssd</td>\n",
       "      <td>8 gb</td>\n",
       "    </tr>\n",
       "    <tr>\n",
       "      <th>4</th>\n",
       "      <td>asus tuf gaming f15 core i5 10th gen  8 gb512 ...</td>\n",
       "      <td>4.4</td>\n",
       "      <td>49990</td>\n",
       "      <td>8</td>\n",
       "      <td>ddr4</td>\n",
       "      <td>windows 11 operating system</td>\n",
       "      <td>ssd</td>\n",
       "      <td>8 gb</td>\n",
       "    </tr>\n",
       "  </tbody>\n",
       "</table>\n",
       "</div>"
      ],
      "text/plain": [
       "                                             Product  Rating    MRP Ram_size  \\\n",
       "0  lenovo ideapad 3 core i3 11th gen  8 gb256 gb ...     4.2  36990        8   \n",
       "1  lenovo ideapad 3 core i3 11th gen  8 gb512 gb ...     4.2  39990        8   \n",
       "2  asus vivobook 15 2022 core i3 10th gen  8 gb51...     4.3  32990        8   \n",
       "3  hp pavilion ryzen 5 hexa core amd r55600h  8 g...     4.4  49990        8   \n",
       "4  asus tuf gaming f15 core i5 10th gen  8 gb512 ...     4.4  49990        8   \n",
       "\n",
       "  Ram_type             Operating system Disk_type Disk_size  \n",
       "0     ddr4  windows 11 operating system       ssd      8 gb  \n",
       "1     ddr4  windows 11 operating system       ssd      8 gb  \n",
       "2     ddr4  windows 11 operating system       ssd      8 gb  \n",
       "3     ddr4  windows 10 operating system       ssd      8 gb  \n",
       "4     ddr4  windows 11 operating system       ssd      8 gb  "
      ]
     },
     "execution_count": 22,
     "metadata": {},
     "output_type": "execute_result"
    }
   ],
   "source": [
    "df.head()"
   ]
  },
  {
   "cell_type": "markdown",
   "id": "69b0f15d",
   "metadata": {},
   "source": [
    "### Split Product name into Brand name"
   ]
  },
  {
   "cell_type": "code",
   "execution_count": 23,
   "id": "daba4776",
   "metadata": {},
   "outputs": [
    {
     "name": "stderr",
     "output_type": "stream",
     "text": [
      "C:\\Users\\patel\\AppData\\Local\\Temp\\ipykernel_11872\\483019674.py:1: FutureWarning: In a future version of pandas all arguments of StringMethods.split except for the argument 'pat' will be keyword-only.\n",
      "  df['Brand Name'] = df['Product'].str.split(' ', 1).str[0]\n"
     ]
    }
   ],
   "source": [
    "df['Brand Name'] = df['Product'].str.split(' ', 1).str[0]\n"
   ]
  },
  {
   "cell_type": "code",
   "execution_count": 24,
   "id": "e7567d73",
   "metadata": {},
   "outputs": [
    {
     "data": {
      "text/plain": [
       "array(['lenovo', 'asus', 'hp', 'dell', 'redmibook', 'realme', 'acer',\n",
       "       'msi', 'vaio', 'gigabyte', 'nokia', 'ultimus', 'alienware'],\n",
       "      dtype=object)"
      ]
     },
     "execution_count": 24,
     "metadata": {},
     "output_type": "execute_result"
    }
   ],
   "source": [
    "df['Brand Name'].unique()"
   ]
  },
  {
   "cell_type": "code",
   "execution_count": 25,
   "id": "ab78f6d3",
   "metadata": {
    "scrolled": true
   },
   "outputs": [
    {
     "data": {
      "text/plain": [
       "array(['ddr4', 'ddr5', 'lpddr5', 'lpddr4', 'lpddr3'], dtype=object)"
      ]
     },
     "execution_count": 25,
     "metadata": {},
     "output_type": "execute_result"
    }
   ],
   "source": [
    "df['Ram_type'].unique()"
   ]
  },
  {
   "cell_type": "code",
   "execution_count": 26,
   "id": "325bd5e2",
   "metadata": {
    "scrolled": true
   },
   "outputs": [
    {
     "data": {
      "text/plain": [
       "array(['windows 11 operating system', 'windows 10 operating system'],\n",
       "      dtype=object)"
      ]
     },
     "execution_count": 26,
     "metadata": {},
     "output_type": "execute_result"
    }
   ],
   "source": [
    "df['Operating system'].unique()"
   ]
  },
  {
   "cell_type": "code",
   "execution_count": 27,
   "id": "ea92fa0e",
   "metadata": {},
   "outputs": [
    {
     "data": {
      "text/plain": [
       "array(['8 gb', '8gb', '16 gb', '4 gb', '16gb', '32 gb', '128 gb'],\n",
       "      dtype=object)"
      ]
     },
     "execution_count": 27,
     "metadata": {},
     "output_type": "execute_result"
    }
   ],
   "source": [
    "df['Disk_size'].unique()"
   ]
  },
  {
   "cell_type": "code",
   "execution_count": 28,
   "id": "11c3ef63",
   "metadata": {},
   "outputs": [],
   "source": [
    "df['Disk_size'] = df['Disk_size'].replace('8gb', '8 gb')\n",
    "df['Disk_size'] = df['Disk_size'].replace('16gb', '16 gb')"
   ]
  },
  {
   "cell_type": "code",
   "execution_count": 29,
   "id": "25ce3ff1",
   "metadata": {},
   "outputs": [
    {
     "data": {
      "text/plain": [
       "array(['8 gb', '16 gb', '4 gb', '32 gb', '128 gb'], dtype=object)"
      ]
     },
     "execution_count": 29,
     "metadata": {},
     "output_type": "execute_result"
    }
   ],
   "source": [
    "df['Disk_size'].unique()"
   ]
  },
  {
   "cell_type": "code",
   "execution_count": 30,
   "id": "edd57af2",
   "metadata": {},
   "outputs": [
    {
     "data": {
      "text/plain": [
       "array(['ssd', 'hdd'], dtype=object)"
      ]
     },
     "execution_count": 30,
     "metadata": {},
     "output_type": "execute_result"
    }
   ],
   "source": [
    "df['Disk_type'].unique()"
   ]
  },
  {
   "cell_type": "code",
   "execution_count": 31,
   "id": "032f5ff5",
   "metadata": {},
   "outputs": [
    {
     "data": {
      "text/html": [
       "<div>\n",
       "<style scoped>\n",
       "    .dataframe tbody tr th:only-of-type {\n",
       "        vertical-align: middle;\n",
       "    }\n",
       "\n",
       "    .dataframe tbody tr th {\n",
       "        vertical-align: top;\n",
       "    }\n",
       "\n",
       "    .dataframe thead th {\n",
       "        text-align: right;\n",
       "    }\n",
       "</style>\n",
       "<table border=\"1\" class=\"dataframe\">\n",
       "  <thead>\n",
       "    <tr style=\"text-align: right;\">\n",
       "      <th></th>\n",
       "      <th>Product</th>\n",
       "      <th>Rating</th>\n",
       "      <th>MRP</th>\n",
       "      <th>Ram_size</th>\n",
       "      <th>Ram_type</th>\n",
       "      <th>Operating system</th>\n",
       "      <th>Disk_type</th>\n",
       "      <th>Disk_size</th>\n",
       "      <th>Brand Name</th>\n",
       "    </tr>\n",
       "  </thead>\n",
       "  <tbody>\n",
       "    <tr>\n",
       "      <th>0</th>\n",
       "      <td>lenovo ideapad 3 core i3 11th gen  8 gb256 gb ...</td>\n",
       "      <td>4.2</td>\n",
       "      <td>36990</td>\n",
       "      <td>8</td>\n",
       "      <td>ddr4</td>\n",
       "      <td>windows 11 operating system</td>\n",
       "      <td>ssd</td>\n",
       "      <td>8 gb</td>\n",
       "      <td>lenovo</td>\n",
       "    </tr>\n",
       "    <tr>\n",
       "      <th>1</th>\n",
       "      <td>lenovo ideapad 3 core i3 11th gen  8 gb512 gb ...</td>\n",
       "      <td>4.2</td>\n",
       "      <td>39990</td>\n",
       "      <td>8</td>\n",
       "      <td>ddr4</td>\n",
       "      <td>windows 11 operating system</td>\n",
       "      <td>ssd</td>\n",
       "      <td>8 gb</td>\n",
       "      <td>lenovo</td>\n",
       "    </tr>\n",
       "    <tr>\n",
       "      <th>2</th>\n",
       "      <td>asus vivobook 15 2022 core i3 10th gen  8 gb51...</td>\n",
       "      <td>4.3</td>\n",
       "      <td>32990</td>\n",
       "      <td>8</td>\n",
       "      <td>ddr4</td>\n",
       "      <td>windows 11 operating system</td>\n",
       "      <td>ssd</td>\n",
       "      <td>8 gb</td>\n",
       "      <td>asus</td>\n",
       "    </tr>\n",
       "    <tr>\n",
       "      <th>3</th>\n",
       "      <td>hp pavilion ryzen 5 hexa core amd r55600h  8 g...</td>\n",
       "      <td>4.4</td>\n",
       "      <td>49990</td>\n",
       "      <td>8</td>\n",
       "      <td>ddr4</td>\n",
       "      <td>windows 10 operating system</td>\n",
       "      <td>ssd</td>\n",
       "      <td>8 gb</td>\n",
       "      <td>hp</td>\n",
       "    </tr>\n",
       "    <tr>\n",
       "      <th>4</th>\n",
       "      <td>asus tuf gaming f15 core i5 10th gen  8 gb512 ...</td>\n",
       "      <td>4.4</td>\n",
       "      <td>49990</td>\n",
       "      <td>8</td>\n",
       "      <td>ddr4</td>\n",
       "      <td>windows 11 operating system</td>\n",
       "      <td>ssd</td>\n",
       "      <td>8 gb</td>\n",
       "      <td>asus</td>\n",
       "    </tr>\n",
       "  </tbody>\n",
       "</table>\n",
       "</div>"
      ],
      "text/plain": [
       "                                             Product  Rating    MRP Ram_size  \\\n",
       "0  lenovo ideapad 3 core i3 11th gen  8 gb256 gb ...     4.2  36990        8   \n",
       "1  lenovo ideapad 3 core i3 11th gen  8 gb512 gb ...     4.2  39990        8   \n",
       "2  asus vivobook 15 2022 core i3 10th gen  8 gb51...     4.3  32990        8   \n",
       "3  hp pavilion ryzen 5 hexa core amd r55600h  8 g...     4.4  49990        8   \n",
       "4  asus tuf gaming f15 core i5 10th gen  8 gb512 ...     4.4  49990        8   \n",
       "\n",
       "  Ram_type             Operating system Disk_type Disk_size Brand Name  \n",
       "0     ddr4  windows 11 operating system       ssd      8 gb     lenovo  \n",
       "1     ddr4  windows 11 operating system       ssd      8 gb     lenovo  \n",
       "2     ddr4  windows 11 operating system       ssd      8 gb       asus  \n",
       "3     ddr4  windows 10 operating system       ssd      8 gb         hp  \n",
       "4     ddr4  windows 11 operating system       ssd      8 gb       asus  "
      ]
     },
     "execution_count": 31,
     "metadata": {},
     "output_type": "execute_result"
    }
   ],
   "source": [
    "df.head()"
   ]
  },
  {
   "cell_type": "markdown",
   "id": "8e298883",
   "metadata": {},
   "source": [
    "### Feature Selection"
   ]
  },
  {
   "cell_type": "code",
   "execution_count": 32,
   "id": "0c56762a",
   "metadata": {
    "scrolled": false
   },
   "outputs": [
    {
     "name": "stderr",
     "output_type": "stream",
     "text": [
      "C:\\Users\\patel\\AppData\\Local\\Temp\\ipykernel_11872\\4000098576.py:2: FutureWarning: The default value of numeric_only in DataFrame.corr is deprecated. In a future version, it will default to False. Select only valid columns or specify the value of numeric_only to silence this warning.\n",
      "  corr_matrix = df[numerical_cols].corr()\n"
     ]
    },
    {
     "data": {
      "image/png": "[encoded data removed]",
      "text/plain": [
       "<Figure size 432x288 with 2 Axes>"
      ]
     },
     "metadata": {
      "needs_background": "light"
     },
     "output_type": "display_data"
    }
   ],
   "source": [
    "numerical_cols = ['Rating', 'MRP', 'Ram_size']\n",
    "corr_matrix = df[numerical_cols].corr()\n",
    "\n",
    "sns.heatmap(corr_matrix, annot=True, cmap='coolwarm')\n",
    "plt.show()"
   ]
  },
  {
   "cell_type": "code",
   "execution_count": 33,
   "id": "2c7f5827",
   "metadata": {
    "scrolled": true
   },
   "outputs": [
    {
     "data": {
      "text/html": [
       "<div>\n",
       "<style scoped>\n",
       "    .dataframe tbody tr th:only-of-type {\n",
       "        vertical-align: middle;\n",
       "    }\n",
       "\n",
       "    .dataframe tbody tr th {\n",
       "        vertical-align: top;\n",
       "    }\n",
       "\n",
       "    .dataframe thead th {\n",
       "        text-align: right;\n",
       "    }\n",
       "</style>\n",
       "<table border=\"1\" class=\"dataframe\">\n",
       "  <thead>\n",
       "    <tr style=\"text-align: right;\">\n",
       "      <th></th>\n",
       "      <th>Rating</th>\n",
       "      <th>MRP</th>\n",
       "      <th>Ram_size</th>\n",
       "      <th>Ram_type</th>\n",
       "      <th>Operating system</th>\n",
       "      <th>Disk_type</th>\n",
       "      <th>Disk_size</th>\n",
       "      <th>Brand Name</th>\n",
       "    </tr>\n",
       "  </thead>\n",
       "  <tbody>\n",
       "    <tr>\n",
       "      <th>0</th>\n",
       "      <td>4.2</td>\n",
       "      <td>36990</td>\n",
       "      <td>8</td>\n",
       "      <td>ddr4</td>\n",
       "      <td>windows 11 operating system</td>\n",
       "      <td>ssd</td>\n",
       "      <td>8 gb</td>\n",
       "      <td>lenovo</td>\n",
       "    </tr>\n",
       "    <tr>\n",
       "      <th>1</th>\n",
       "      <td>4.2</td>\n",
       "      <td>39990</td>\n",
       "      <td>8</td>\n",
       "      <td>ddr4</td>\n",
       "      <td>windows 11 operating system</td>\n",
       "      <td>ssd</td>\n",
       "      <td>8 gb</td>\n",
       "      <td>lenovo</td>\n",
       "    </tr>\n",
       "    <tr>\n",
       "      <th>2</th>\n",
       "      <td>4.3</td>\n",
       "      <td>32990</td>\n",
       "      <td>8</td>\n",
       "      <td>ddr4</td>\n",
       "      <td>windows 11 operating system</td>\n",
       "      <td>ssd</td>\n",
       "      <td>8 gb</td>\n",
       "      <td>asus</td>\n",
       "    </tr>\n",
       "    <tr>\n",
       "      <th>3</th>\n",
       "      <td>4.4</td>\n",
       "      <td>49990</td>\n",
       "      <td>8</td>\n",
       "      <td>ddr4</td>\n",
       "      <td>windows 10 operating system</td>\n",
       "      <td>ssd</td>\n",
       "      <td>8 gb</td>\n",
       "      <td>hp</td>\n",
       "    </tr>\n",
       "    <tr>\n",
       "      <th>4</th>\n",
       "      <td>4.4</td>\n",
       "      <td>49990</td>\n",
       "      <td>8</td>\n",
       "      <td>ddr4</td>\n",
       "      <td>windows 11 operating system</td>\n",
       "      <td>ssd</td>\n",
       "      <td>8 gb</td>\n",
       "      <td>asus</td>\n",
       "    </tr>\n",
       "  </tbody>\n",
       "</table>\n",
       "</div>"
      ],
      "text/plain": [
       "   Rating    MRP Ram_size Ram_type             Operating system Disk_type  \\\n",
       "0     4.2  36990        8     ddr4  windows 11 operating system       ssd   \n",
       "1     4.2  39990        8     ddr4  windows 11 operating system       ssd   \n",
       "2     4.3  32990        8     ddr4  windows 11 operating system       ssd   \n",
       "3     4.4  49990        8     ddr4  windows 10 operating system       ssd   \n",
       "4     4.4  49990        8     ddr4  windows 11 operating system       ssd   \n",
       "\n",
       "  Disk_size Brand Name  \n",
       "0      8 gb     lenovo  \n",
       "1      8 gb     lenovo  \n",
       "2      8 gb       asus  \n",
       "3      8 gb         hp  \n",
       "4      8 gb       asus  "
      ]
     },
     "execution_count": 33,
     "metadata": {},
     "output_type": "execute_result"
    }
   ],
   "source": [
    "df.drop('Product', axis=1, inplace=True)\n",
    "\n",
    "df.head()"
   ]
  },
  {
   "cell_type": "code",
   "execution_count": 34,
   "id": "84553df6",
   "metadata": {},
   "outputs": [
    {
     "data": {
      "text/plain": [
       "0      lenovo\n",
       "1      lenovo\n",
       "2        asus\n",
       "3          hp\n",
       "4        asus\n",
       "        ...  \n",
       "714        hp\n",
       "716    lenovo\n",
       "717      asus\n",
       "718      asus\n",
       "719    lenovo\n",
       "Name: Brand Name, Length: 652, dtype: object"
      ]
     },
     "execution_count": 34,
     "metadata": {},
     "output_type": "execute_result"
    }
   ],
   "source": [
    "df['Brand Name']"
   ]
  },
  {
   "cell_type": "code",
   "execution_count": 35,
   "id": "ad6ed057",
   "metadata": {
    "scrolled": true
   },
   "outputs": [
    {
     "data": {
      "text/html": [
       "<div>\n",
       "<style scoped>\n",
       "    .dataframe tbody tr th:only-of-type {\n",
       "        vertical-align: middle;\n",
       "    }\n",
       "\n",
       "    .dataframe tbody tr th {\n",
       "        vertical-align: top;\n",
       "    }\n",
       "\n",
       "    .dataframe thead th {\n",
       "        text-align: right;\n",
       "    }\n",
       "</style>\n",
       "<table border=\"1\" class=\"dataframe\">\n",
       "  <thead>\n",
       "    <tr style=\"text-align: right;\">\n",
       "      <th></th>\n",
       "      <th>Brand Name</th>\n",
       "      <th>Rating</th>\n",
       "      <th>MRP</th>\n",
       "      <th>Ram_size</th>\n",
       "      <th>Ram_type</th>\n",
       "      <th>Operating system</th>\n",
       "      <th>Disk_type</th>\n",
       "      <th>Disk_size</th>\n",
       "    </tr>\n",
       "  </thead>\n",
       "  <tbody>\n",
       "    <tr>\n",
       "      <th>0</th>\n",
       "      <td>lenovo</td>\n",
       "      <td>4.2</td>\n",
       "      <td>36990</td>\n",
       "      <td>8</td>\n",
       "      <td>ddr4</td>\n",
       "      <td>windows 11 operating system</td>\n",
       "      <td>ssd</td>\n",
       "      <td>8 gb</td>\n",
       "    </tr>\n",
       "    <tr>\n",
       "      <th>1</th>\n",
       "      <td>lenovo</td>\n",
       "      <td>4.2</td>\n",
       "      <td>39990</td>\n",
       "      <td>8</td>\n",
       "      <td>ddr4</td>\n",
       "      <td>windows 11 operating system</td>\n",
       "      <td>ssd</td>\n",
       "      <td>8 gb</td>\n",
       "    </tr>\n",
       "    <tr>\n",
       "      <th>2</th>\n",
       "      <td>asus</td>\n",
       "      <td>4.3</td>\n",
       "      <td>32990</td>\n",
       "      <td>8</td>\n",
       "      <td>ddr4</td>\n",
       "      <td>windows 11 operating system</td>\n",
       "      <td>ssd</td>\n",
       "      <td>8 gb</td>\n",
       "    </tr>\n",
       "    <tr>\n",
       "      <th>3</th>\n",
       "      <td>hp</td>\n",
       "      <td>4.4</td>\n",
       "      <td>49990</td>\n",
       "      <td>8</td>\n",
       "      <td>ddr4</td>\n",
       "      <td>windows 10 operating system</td>\n",
       "      <td>ssd</td>\n",
       "      <td>8 gb</td>\n",
       "    </tr>\n",
       "    <tr>\n",
       "      <th>4</th>\n",
       "      <td>asus</td>\n",
       "      <td>4.4</td>\n",
       "      <td>49990</td>\n",
       "      <td>8</td>\n",
       "      <td>ddr4</td>\n",
       "      <td>windows 11 operating system</td>\n",
       "      <td>ssd</td>\n",
       "      <td>8 gb</td>\n",
       "    </tr>\n",
       "  </tbody>\n",
       "</table>\n",
       "</div>"
      ],
      "text/plain": [
       "  Brand Name  Rating    MRP Ram_size Ram_type             Operating system  \\\n",
       "0     lenovo     4.2  36990        8     ddr4  windows 11 operating system   \n",
       "1     lenovo     4.2  39990        8     ddr4  windows 11 operating system   \n",
       "2       asus     4.3  32990        8     ddr4  windows 11 operating system   \n",
       "3         hp     4.4  49990        8     ddr4  windows 10 operating system   \n",
       "4       asus     4.4  49990        8     ddr4  windows 11 operating system   \n",
       "\n",
       "  Disk_type Disk_size  \n",
       "0       ssd      8 gb  \n",
       "1       ssd      8 gb  \n",
       "2       ssd      8 gb  \n",
       "3       ssd      8 gb  \n",
       "4       ssd      8 gb  "
      ]
     },
     "execution_count": 35,
     "metadata": {},
     "output_type": "execute_result"
    }
   ],
   "source": [
    "last_col = df.pop(df.columns[-1])\n",
    "\n",
    "# Insert the last column at the first position\n",
    "df.insert(0, last_col.name, last_col)\n",
    "\n",
    "# View the modified dataframe\n",
    "df.head()"
   ]
  },
  {
   "cell_type": "code",
   "execution_count": 36,
   "id": "29035384",
   "metadata": {
    "scrolled": true
   },
   "outputs": [
    {
     "data": {
      "text/plain": [
       "Index(['Brand Name', 'Rating', 'MRP', 'Ram_size', 'Ram_type',\n",
       "       'Operating system', 'Disk_type', 'Disk_size'],\n",
       "      dtype='object')"
      ]
     },
     "execution_count": 36,
     "metadata": {},
     "output_type": "execute_result"
    }
   ],
   "source": [
    "df.columns"
   ]
  },
  {
   "cell_type": "markdown",
   "id": "5e678a14",
   "metadata": {},
   "source": [
    "### Model Create"
   ]
  },
  {
   "cell_type": "code",
   "execution_count": 37,
   "id": "be7a2d48",
   "metadata": {},
   "outputs": [],
   "source": [
    "from sklearn.preprocessing import LabelEncoder\n",
    "le=LabelEncoder()\n",
    "df[\"Brand Name\"]=le.fit_transform(df[\"Brand Name\"])\n",
    "df[\"Ram_size\"]=le.fit_transform(df[\"Ram_size\"])\n",
    "df[\"Ram_type\"]=le.fit_transform(df[\"Ram_type\"])\n",
    "df[\"Operating system\"]=le.fit_transform(df[\"Operating system\"])\n",
    "df[\"Disk_type\"]=le.fit_transform(df[\"Disk_type\"])\n",
    "df[\"Disk_size\"]=le.fit_transform(df[\"Disk_size\"])\n"
   ]
  },
  {
   "cell_type": "code",
   "execution_count": 38,
   "id": "f4b9e4bf",
   "metadata": {},
   "outputs": [
    {
     "name": "stdout",
     "output_type": "stream",
     "text": [
      "R2 score: 0.8244121744486517\n",
      "Mean squared error: 607024177.6293772\n"
     ]
    }
   ],
   "source": [
    "from sklearn.metrics import r2_score,mean_squared_error\n",
    "from sklearn.model_selection import train_test_split\n",
    "from sklearn.ensemble import RandomForestRegressor\n",
    "\n",
    "# define the features and target variables\n",
    "X = df[['Rating', 'Brand Name', 'Ram_size', 'Ram_type', 'Operating system', 'Disk_type', 'Disk_size']]\n",
    "y = df['MRP']\n",
    "\n",
    "# split the data into training and testing sets\n",
    "X_train, X_test, y_train, y_test = train_test_split(X, y, test_size=0.2, random_state=42)\n",
    "\n",
    "# initialize a Random Forest Regressor with default parameters\n",
    "rf_regressor = RandomForestRegressor(random_state=42)\n",
    "\n",
    "# fit the model to the training data\n",
    "rf_regressor.fit(X_train, y_train)\n",
    "\n",
    "# evaluate the model on the test data\n",
    "y_pred = rf_regressor.predict(X_test)\n",
    "r2 = r2_score(y_test, y_pred)\n",
    "mse = mean_squared_error(y_test, y_pred)\n",
    "\n",
    "print('R2 score:', r2)\n",
    "print('Mean squared error:', mse)\n"
   ]
  },
  {
   "cell_type": "code",
   "execution_count": 40,
   "id": "bff07091",
   "metadata": {
    "scrolled": true
   },
   "outputs": [
    {
     "data": {
      "text/html": [
       "<div>\n",
       "<style scoped>\n",
       "    .dataframe tbody tr th:only-of-type {\n",
       "        vertical-align: middle;\n",
       "    }\n",
       "\n",
       "    .dataframe tbody tr th {\n",
       "        vertical-align: top;\n",
       "    }\n",
       "\n",
       "    .dataframe thead th {\n",
       "        text-align: right;\n",
       "    }\n",
       "</style>\n",
       "<table border=\"1\" class=\"dataframe\">\n",
       "  <thead>\n",
       "    <tr style=\"text-align: right;\">\n",
       "      <th></th>\n",
       "      <th>Brand Name</th>\n",
       "      <th>Rating</th>\n",
       "      <th>MRP</th>\n",
       "      <th>Ram_size</th>\n",
       "      <th>Ram_type</th>\n",
       "      <th>Operating system</th>\n",
       "      <th>Disk_type</th>\n",
       "      <th>Disk_size</th>\n",
       "    </tr>\n",
       "  </thead>\n",
       "  <tbody>\n",
       "    <tr>\n",
       "      <th>0</th>\n",
       "      <td>6</td>\n",
       "      <td>4.2</td>\n",
       "      <td>36990</td>\n",
       "      <td>4</td>\n",
       "      <td>0</td>\n",
       "      <td>1</td>\n",
       "      <td>1</td>\n",
       "      <td>4</td>\n",
       "    </tr>\n",
       "    <tr>\n",
       "      <th>1</th>\n",
       "      <td>6</td>\n",
       "      <td>4.2</td>\n",
       "      <td>39990</td>\n",
       "      <td>4</td>\n",
       "      <td>0</td>\n",
       "      <td>1</td>\n",
       "      <td>1</td>\n",
       "      <td>4</td>\n",
       "    </tr>\n",
       "    <tr>\n",
       "      <th>2</th>\n",
       "      <td>2</td>\n",
       "      <td>4.3</td>\n",
       "      <td>32990</td>\n",
       "      <td>4</td>\n",
       "      <td>0</td>\n",
       "      <td>1</td>\n",
       "      <td>1</td>\n",
       "      <td>4</td>\n",
       "    </tr>\n",
       "    <tr>\n",
       "      <th>3</th>\n",
       "      <td>5</td>\n",
       "      <td>4.4</td>\n",
       "      <td>49990</td>\n",
       "      <td>4</td>\n",
       "      <td>0</td>\n",
       "      <td>0</td>\n",
       "      <td>1</td>\n",
       "      <td>4</td>\n",
       "    </tr>\n",
       "    <tr>\n",
       "      <th>4</th>\n",
       "      <td>2</td>\n",
       "      <td>4.4</td>\n",
       "      <td>49990</td>\n",
       "      <td>4</td>\n",
       "      <td>0</td>\n",
       "      <td>1</td>\n",
       "      <td>1</td>\n",
       "      <td>4</td>\n",
       "    </tr>\n",
       "  </tbody>\n",
       "</table>\n",
       "</div>"
      ],
      "text/plain": [
       "   Brand Name  Rating    MRP  Ram_size  Ram_type  Operating system  Disk_type  \\\n",
       "0           6     4.2  36990         4         0                 1          1   \n",
       "1           6     4.2  39990         4         0                 1          1   \n",
       "2           2     4.3  32990         4         0                 1          1   \n",
       "3           5     4.4  49990         4         0                 0          1   \n",
       "4           2     4.4  49990         4         0                 1          1   \n",
       "\n",
       "   Disk_size  \n",
       "0          4  \n",
       "1          4  \n",
       "2          4  \n",
       "3          4  \n",
       "4          4  "
      ]
     },
     "execution_count": 40,
     "metadata": {},
     "output_type": "execute_result"
    }
   ],
   "source": [
    "df.head()"
   ]
  },
  {
   "cell_type": "code",
   "execution_count": 41,
   "id": "5d0978e2",
   "metadata": {},
   "outputs": [
    {
     "data": {
      "text/plain": [
       "array([4, 1, 3, 2, 0])"
      ]
     },
     "execution_count": 41,
     "metadata": {},
     "output_type": "execute_result"
    }
   ],
   "source": [
    "df['Disk_size'].unique()"
   ]
  },
  {
   "cell_type": "code",
   "execution_count": 39,
   "id": "380cfa2f",
   "metadata": {},
   "outputs": [],
   "source": [
    "df.to_csv(\"laptop_details_eda.csv\", index=False)"
   ]
  }
 ],
 "metadata": {
  "kernelspec": {
   "display_name": "Python 3 (ipykernel)",
   "language": "python",
   "name": "python3"
  },
  "language_info": {
   "codemirror_mode": {
    "name": "ipython",
    "version": 3
   },
   "file_extension": ".py",
   "mimetype": "text/x-python",
   "name": "python",
   "nbconvert_exporter": "python",
   "pygments_lexer": "ipython3",
   "version": "3.9.7"
  }
 },
 "nbformat": 4,
 "nbformat_minor": 5
}
